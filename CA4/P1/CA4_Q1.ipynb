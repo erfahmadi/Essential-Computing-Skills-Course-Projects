{
 "cells": [
  {
   "cell_type": "markdown",
   "id": "684516b2",
   "metadata": {},
   "source": [
    "# CA4 - Question 1"
   ]
  },
  {
   "cell_type": "code",
   "execution_count": 36,
   "id": "3cc688d5",
   "metadata": {},
   "outputs": [],
   "source": [
    "import re\n",
    "\n",
    "class ValidatorMeta(type):\n",
    "    def __new__(cls, name, bases, dct):\n",
    "        \n",
    "        validation_rules = {\n",
    "            #TO DO\n",
    "            'email': r'^[a-zA-Z0-9]+@[a-zA-Z0-9]+\\.(com|org)$',\n",
    "            'phone_number': r'^\\+98[0-9][0-9][0-9][0-9][0-9][0-9][0-9][0-9]$',\n",
    "            'password': r'^(?=.*[a-z])(?=.*[A-Z])(?=.*\\d)(?=.*[!%@*])[A-Za-z0-9!%@*]{8,12}$',\n",
    "            'product_code': r'^[A-Z][A-Z][0-9]{2,4}[a-z]?(-v[1-9][0-9]?)?$',\n",
    "            'stop_word': r'(?<!\\w)[Ss]top(?!\\w|[^\\s])',\n",
    "            'repeated_phrase': r'\\b(some students|many employees)\\b.*\\b\\1\\b',\n",
    "            'date': r'^([1-9][0-9]{3})/(0[1-6]/(0[1-9]|[12][0-9]|3[01])|0[7-9]/(0[1-9]|[12][0-9]|30)|1[0-2]/(0[1-9]|[12][0-9]|30))$',\n",
    "            'quotation': r'^([\\'\"])[a-zA-Z0-9 ]*\\1$',\n",
    "            'parenthesis': r'^[^()]*((\\([^()]*\\)[^()]*)*)$',\n",
    "        }\n",
    "\n",
    "        custom_error_messages = {\n",
    "            'email': 'Email must have a valid format and end with .com or .org.',\n",
    "            'phone_number': 'Phone number must start with +98 and be followed by 8 digits.',\n",
    "            'password': 'Password must be between 8 and 12 characters and include at least one uppercase letter, one lowercase letter, one number, and one special character (*, @, %, !).',\n",
    "            'product_code': 'Product code must consist of 2 uppercase letters, 2 to 4 digits, an optional lowercase letter, and an optional version number (v1-v99).',\n",
    "            'stop_word': 'The word \"Stop\" or \"stop\" must be separate and not part of a larger word or attached to punctuation.',\n",
    "            'repeated_phrase': 'The phrase \"some students\" or \"many employees\" must repeat exactly, with no different terms in between.',\n",
    "            'date': 'Date must be in YYYY/MM/DD format, with valid month and day values.',\n",
    "            'quotation': 'Text must be enclosed in balanced single or double quotes and contain only letters, numbers, and spaces.',\n",
    "            'parenthesis': 'Parentheses must be balanced with no unmatched opening or closing parentheses.',\n",
    "        }\n",
    "\n",
    "        # Method generator for validation functions\n",
    "        def create_validator(field, rule, custom_message):\n",
    "            def validator(self, value):\n",
    "                if not re.match(rule, value):\n",
    "                    raise ValueError(custom_message)\n",
    "                return True\n",
    "            return validator\n",
    "\n",
    "        # Add validation methods to the class dynamically\n",
    "        for field, rule in validation_rules.items():\n",
    "            dct[f'validate_{field}'] = create_validator(field, rule, custom_error_messages.get(field, f\"Invalid {field}\"))\n",
    "\n",
    "        return super().__new__(cls, name, bases, dct)\n",
    "\n",
    "\n",
    "class FormValidator(metaclass=ValidatorMeta):\n",
    "    \"\"\"Concrete validator class with all validation methods\"\"\"\n",
    "    pass\n"
   ]
  },
  {
   "cell_type": "markdown",
   "id": "e75f3398",
   "metadata": {},
   "source": [
    "### Email: \n",
    "It begins with ^, which means the pattern must start at the beginning of the string. The first part, [a-zA-Z0-9]+, matches the username portion of the email. It allows letters (both uppercase and lowercase) and numbers. The + means that at least one of these characters must be present, and they can repeat. Next comes the @ symbol, which is required to separate the username from the domain. After that, [a-zA-Z0-9]+ matches the domain name, allowing letters and numbers again, with one or more characters required. Then we have \\. which is an escaped dot (a plain dot (.) means \"any character\" in regex). Finally, (com|org) ensures the email ends with either .com or .org, and the $ at the end makes sure nothing comes after that.\n",
    "\n",
    "------------------------------------------------------------------------------------------------------------------------------------------------------------------------\n",
    "\n",
    "### Phone number:\n",
    "It begins with ^, which means the pattern must start at the beginning of the string. The next part is \\+98, which matches the literal characters +98. The plus sign is escaped (\\+) because + has a special meaning in regex. After that, we have [0-9] repeated eight times in a row. Each [0-9] matches a single digit from 0 to 9. Finally, the $ at the end of the expression makes sure the match stops there.\n",
    "\n",
    "------------------------------------------------------------------------------------------------------------------------------------------------------------------------\n",
    "\n",
    "### Password:\n",
    "It begins with ^, which means the pattern must start at the beginning of the string. Then, we have a series of lookahead assertions.\n",
    "- (?=.*[a-z]) ensures the password contains at least one lowercase letter. The .* part allows any number of characters before that lowercase letter, so it can be anywhere in the string.\n",
    "- (?=.*[A-Z]) does the same for an uppercase letter.\n",
    "- (?=.*\\d) does the same for a numeric character.\n",
    "- (?=.*[!%@*]) confirms that the password includes at least one special character from this specific set: !, %, @, or *.\n",
    "\n",
    "After that, the final pattern is [A-Za-z0-9!%@*]{8,12}, which defines exactly what characters are allowed in the password. It must be made up only of letters, digits, and the specified special characters, and must be between 8 and 12 characters long. Finally, the $ at the end of the expression makes sure the match stops there.\n",
    "\n",
    "------------------------------------------------------------------------------------------------------------------------------------------------------------------------\n",
    "\n",
    "### Product code:\n",
    "It begins with ^, which means the pattern must start at the beginning of the string. The first part, [A-Z][A-Z], requires exactly two uppercase English letters. Next, [0-9]{2,4} matches 2 to 4 digits immediately after the letters. After that, [a-z]? allows for one optional lowercase letter.  Then comes an optional version section: (-v[1-9][0-9]?)?. -v must appear exactly like that if the version is included. [1-9] ensures the version number doesn't start with 0 (e.g., v0 is invalid). [0-9]? optionally adds one more digit, allowing versions from v1 to v99. The entire group is optional because of the outer ?. Finally, the $ at the end of the expression makes sure the match stops there.\n",
    "\n",
    "------------------------------------------------------------------------------------------------------------------------------------------------------------------------\n",
    "\n",
    "### Stop word:\n",
    "(?<!\\w) checks what comes right before the word “Stop”. \n",
    "- \\w represents any word character (letters, digits, or underscore). \n",
    "- (?<!\\w) means: make sure there’s NOT a word character right before. \n",
    "\n",
    "[Ss]top matches \"Stop\" or \"stop\". (?!\\w|[^\\s]) checks what comes right after the word “Stop”. \n",
    "- \\w: a word character. \n",
    "- [^\\s]: any character that is not a space.\n",
    "- \\w|[^\\s]: together, this means \"a word character or punctuation-like character\"\n",
    "- (?!...): makes sure none of those appear immediately after.\n",
    "\n",
    "\n",
    "\n",
    "------------------------------------------------------------------------------------------------------------------------------------------------------------------------\n",
    "\n",
    "### Repeated phrase:\n",
    "It starts with \\b, which stands for a word boundary. This ensures that what follows is not part of a longer phrase or word. Then we have (some students|many employees), which is a capturing group. It matches either \"some students\" or \"many employees\", but not both at once. Then there's another \\b to close off the first phrase. After that, .* allows any number of characters between the first and second instance of the phrase. Then comes \\b\\1\\b. The \\1 is a backreference to the phrase that was captured earlier (either \"some students\" or \"many employees\"), and the \\b before and after it ensures it's once again matched as a standalone phrase.\n",
    "\n",
    "------------------------------------------------------------------------------------------------------------------------------------------------------------------------\n",
    "\n",
    "### Date:\n",
    "It begins with ^, which means the pattern must start at the beginning of the string. Next, we have ([1-9][0-9]{3}). This part matches the year. The first digit must be non-zero, ensuring the year doesn't start with 0. The rest must be three digits.\n",
    "\n",
    "Then comes the first /, which is just a separator between the year and month. The rest of the regex handles the month and day, broken down into three major groups: \n",
    "- 0[1-6]/(0[1-9]|[12][0-9]|3[01]): This handles months 01 to 06, each of which has 31 days. After the /, it allows days from 01 to 31.\n",
    "- 0[7-9]/(0[1-9]|[12][0-9]|30): This handles months 07 to 09, which each have 30 days. After the /, it only allows days from 01 to 30.\n",
    "- 1[0-2]/(0[1-9]|[12][0-9]|30): This covers months 10 to 12. After the /, it only allows days from 01 to 30.\n",
    "\n",
    "Finally, the $ at the end of the expression makes sure the match stops there.\n",
    "\n",
    "------------------------------------------------------------------------------------------------------------------------------------------------------------------------\n",
    "\n",
    "### Quotation:\n",
    "It begins with ^, which means the pattern must start at the beginning of the string. Next comes ([\\'\"]). This part is a capturing group that matches either a single quote ' or a double quote \". Then we have [a-zA-Z0-9 ]*, which matches zero or more characters inside the quotes (letters (uppercase or lowercase), digits, or spaces). Finally, \\1 is a backreference. It matches the exact same quote character that was captured at the beginning (either ' or \"). Finally, the $ at the end of the expression makes sure the match stops there.\n",
    "\n",
    "------------------------------------------------------------------------------------------------------------------------------------------------------------------------\n",
    "\n",
    "### Parenthesis:\n",
    "It begins with ^, which means the pattern must start at the beginning of the string. Next, we have [^()]*. This part matches any number of characters that are not parentheses. It allows the text around or between parentheses to be anything (letters, numbers, punctuation), as long as it's not a ( or ). Then we have this part: (\\([^()]*\\)[^()]*)*.\n",
    "- \\( and \\) match a pair of parentheses (the opening and closing brackets).\n",
    "- Between them, [^()]* says: allow any content that is not itself a parenthesis.\n",
    "- After the closing parenthesis, it again allows more non-parenthesis characters with [^()]*.\n",
    "- The outer (...)+ means this whole balanced-pair pattern can appear zero or more times.\n",
    "\n",
    "Finally, the $ at the end of the expression makes sure the match stops there.\n",
    "\n",
    "\n"
   ]
  },
  {
   "cell_type": "code",
   "execution_count": 39,
   "id": "7ce1f81b",
   "metadata": {},
   "outputs": [],
   "source": [
    "validator = FormValidator()\n",
    "\n",
    "# Test Validation\n",
    "# TO DO\n"
   ]
  },
  {
   "cell_type": "code",
   "execution_count": null,
   "id": "71f81ef9",
   "metadata": {},
   "outputs": [
    {
     "data": {
      "text/plain": [
       "True"
      ]
     },
     "execution_count": 10,
     "metadata": {},
     "output_type": "execute_result"
    }
   ],
   "source": [
    "validator.validate_email(\"example@example.com\") "
   ]
  },
  {
   "cell_type": "code",
   "execution_count": 14,
   "id": "e34d80a3",
   "metadata": {},
   "outputs": [
    {
     "ename": "ValueError",
     "evalue": "Email must have a valid format and end with .com or .org.",
     "output_type": "error",
     "traceback": [
      "\u001b[0;31m---------------------------------------------------------------------------\u001b[0m",
      "\u001b[0;31mValueError\u001b[0m                                Traceback (most recent call last)",
      "\u001b[0;32m/tmp/ipykernel_30661/1744109759.py\u001b[0m in \u001b[0;36m<module>\u001b[0;34m\u001b[0m\n\u001b[0;32m----> 1\u001b[0;31m \u001b[0mvalidator\u001b[0m\u001b[0;34m.\u001b[0m\u001b[0mvalidate_email\u001b[0m\u001b[0;34m(\u001b[0m\u001b[0;34m\"example.com\"\u001b[0m\u001b[0;34m)\u001b[0m\u001b[0;34m\u001b[0m\u001b[0;34m\u001b[0m\u001b[0m\n\u001b[0m",
      "\u001b[0;32m/tmp/ipykernel_30661/4264903828.py\u001b[0m in \u001b[0;36mvalidator\u001b[0;34m(self, value)\u001b[0m\n\u001b[1;32m     33\u001b[0m             \u001b[0;32mdef\u001b[0m \u001b[0mvalidator\u001b[0m\u001b[0;34m(\u001b[0m\u001b[0mself\u001b[0m\u001b[0;34m,\u001b[0m \u001b[0mvalue\u001b[0m\u001b[0;34m)\u001b[0m\u001b[0;34m:\u001b[0m\u001b[0;34m\u001b[0m\u001b[0;34m\u001b[0m\u001b[0m\n\u001b[1;32m     34\u001b[0m                 \u001b[0;32mif\u001b[0m \u001b[0;32mnot\u001b[0m \u001b[0mre\u001b[0m\u001b[0;34m.\u001b[0m\u001b[0mmatch\u001b[0m\u001b[0;34m(\u001b[0m\u001b[0mrule\u001b[0m\u001b[0;34m,\u001b[0m \u001b[0mvalue\u001b[0m\u001b[0;34m)\u001b[0m\u001b[0;34m:\u001b[0m\u001b[0;34m\u001b[0m\u001b[0;34m\u001b[0m\u001b[0m\n\u001b[0;32m---> 35\u001b[0;31m                     \u001b[0;32mraise\u001b[0m \u001b[0mValueError\u001b[0m\u001b[0;34m(\u001b[0m\u001b[0mcustom_message\u001b[0m\u001b[0;34m)\u001b[0m\u001b[0;34m\u001b[0m\u001b[0;34m\u001b[0m\u001b[0m\n\u001b[0m\u001b[1;32m     36\u001b[0m                 \u001b[0;32mreturn\u001b[0m \u001b[0;32mTrue\u001b[0m\u001b[0;34m\u001b[0m\u001b[0;34m\u001b[0m\u001b[0m\n\u001b[1;32m     37\u001b[0m             \u001b[0;32mreturn\u001b[0m \u001b[0mvalidator\u001b[0m\u001b[0;34m\u001b[0m\u001b[0;34m\u001b[0m\u001b[0m\n",
      "\u001b[0;31mValueError\u001b[0m: Email must have a valid format and end with .com or .org."
     ]
    }
   ],
   "source": [
    "validator.validate_email(\"example.com\")"
   ]
  },
  {
   "cell_type": "code",
   "execution_count": 29,
   "id": "7f89ba29",
   "metadata": {},
   "outputs": [
    {
     "ename": "ValueError",
     "evalue": "Email must have a valid format and end with .com or .org.",
     "output_type": "error",
     "traceback": [
      "\u001b[0;31m---------------------------------------------------------------------------\u001b[0m",
      "\u001b[0;31mValueError\u001b[0m                                Traceback (most recent call last)",
      "\u001b[0;32m/tmp/ipykernel_30661/3048193848.py\u001b[0m in \u001b[0;36m<module>\u001b[0;34m\u001b[0m\n\u001b[0;32m----> 1\u001b[0;31m \u001b[0mvalidator\u001b[0m\u001b[0;34m.\u001b[0m\u001b[0mvalidate_email\u001b[0m\u001b[0;34m(\u001b[0m\u001b[0;34m\"example@example.ir\"\u001b[0m\u001b[0;34m)\u001b[0m\u001b[0;34m\u001b[0m\u001b[0;34m\u001b[0m\u001b[0m\n\u001b[0m",
      "\u001b[0;32m/tmp/ipykernel_30661/4264903828.py\u001b[0m in \u001b[0;36mvalidator\u001b[0;34m(self, value)\u001b[0m\n\u001b[1;32m     33\u001b[0m             \u001b[0;32mdef\u001b[0m \u001b[0mvalidator\u001b[0m\u001b[0;34m(\u001b[0m\u001b[0mself\u001b[0m\u001b[0;34m,\u001b[0m \u001b[0mvalue\u001b[0m\u001b[0;34m)\u001b[0m\u001b[0;34m:\u001b[0m\u001b[0;34m\u001b[0m\u001b[0;34m\u001b[0m\u001b[0m\n\u001b[1;32m     34\u001b[0m                 \u001b[0;32mif\u001b[0m \u001b[0;32mnot\u001b[0m \u001b[0mre\u001b[0m\u001b[0;34m.\u001b[0m\u001b[0mmatch\u001b[0m\u001b[0;34m(\u001b[0m\u001b[0mrule\u001b[0m\u001b[0;34m,\u001b[0m \u001b[0mvalue\u001b[0m\u001b[0;34m)\u001b[0m\u001b[0;34m:\u001b[0m\u001b[0;34m\u001b[0m\u001b[0;34m\u001b[0m\u001b[0m\n\u001b[0;32m---> 35\u001b[0;31m                     \u001b[0;32mraise\u001b[0m \u001b[0mValueError\u001b[0m\u001b[0;34m(\u001b[0m\u001b[0mcustom_message\u001b[0m\u001b[0;34m)\u001b[0m\u001b[0;34m\u001b[0m\u001b[0;34m\u001b[0m\u001b[0m\n\u001b[0m\u001b[1;32m     36\u001b[0m                 \u001b[0;32mreturn\u001b[0m \u001b[0;32mTrue\u001b[0m\u001b[0;34m\u001b[0m\u001b[0;34m\u001b[0m\u001b[0m\n\u001b[1;32m     37\u001b[0m             \u001b[0;32mreturn\u001b[0m \u001b[0mvalidator\u001b[0m\u001b[0;34m\u001b[0m\u001b[0;34m\u001b[0m\u001b[0m\n",
      "\u001b[0;31mValueError\u001b[0m: Email must have a valid format and end with .com or .org."
     ]
    }
   ],
   "source": [
    "validator.validate_email(\"example@example.ir\") "
   ]
  },
  {
   "cell_type": "markdown",
   "id": "8318aa2d",
   "metadata": {},
   "source": [
    "------------------------------------------------------------------------------------------------------------------------------------------------------------------------"
   ]
  },
  {
   "cell_type": "code",
   "execution_count": 12,
   "id": "c1ae5b9b",
   "metadata": {},
   "outputs": [
    {
     "data": {
      "text/plain": [
       "True"
      ]
     },
     "execution_count": 12,
     "metadata": {},
     "output_type": "execute_result"
    }
   ],
   "source": [
    "validator.validate_phone_number(\"+9812345678\") "
   ]
  },
  {
   "cell_type": "code",
   "execution_count": 13,
   "id": "948a97d5",
   "metadata": {},
   "outputs": [
    {
     "ename": "ValueError",
     "evalue": "Phone number must start with +98 and be followed by 8 digits.",
     "output_type": "error",
     "traceback": [
      "\u001b[0;31m---------------------------------------------------------------------------\u001b[0m",
      "\u001b[0;31mValueError\u001b[0m                                Traceback (most recent call last)",
      "\u001b[0;32m/tmp/ipykernel_30661/3890891667.py\u001b[0m in \u001b[0;36m<module>\u001b[0;34m\u001b[0m\n\u001b[0;32m----> 1\u001b[0;31m \u001b[0mvalidator\u001b[0m\u001b[0;34m.\u001b[0m\u001b[0mvalidate_phone_number\u001b[0m\u001b[0;34m(\u001b[0m\u001b[0;34m\"0912345678\"\u001b[0m\u001b[0;34m)\u001b[0m\u001b[0;34m\u001b[0m\u001b[0;34m\u001b[0m\u001b[0m\n\u001b[0m",
      "\u001b[0;32m/tmp/ipykernel_30661/4264903828.py\u001b[0m in \u001b[0;36mvalidator\u001b[0;34m(self, value)\u001b[0m\n\u001b[1;32m     33\u001b[0m             \u001b[0;32mdef\u001b[0m \u001b[0mvalidator\u001b[0m\u001b[0;34m(\u001b[0m\u001b[0mself\u001b[0m\u001b[0;34m,\u001b[0m \u001b[0mvalue\u001b[0m\u001b[0;34m)\u001b[0m\u001b[0;34m:\u001b[0m\u001b[0;34m\u001b[0m\u001b[0;34m\u001b[0m\u001b[0m\n\u001b[1;32m     34\u001b[0m                 \u001b[0;32mif\u001b[0m \u001b[0;32mnot\u001b[0m \u001b[0mre\u001b[0m\u001b[0;34m.\u001b[0m\u001b[0mmatch\u001b[0m\u001b[0;34m(\u001b[0m\u001b[0mrule\u001b[0m\u001b[0;34m,\u001b[0m \u001b[0mvalue\u001b[0m\u001b[0;34m)\u001b[0m\u001b[0;34m:\u001b[0m\u001b[0;34m\u001b[0m\u001b[0;34m\u001b[0m\u001b[0m\n\u001b[0;32m---> 35\u001b[0;31m                     \u001b[0;32mraise\u001b[0m \u001b[0mValueError\u001b[0m\u001b[0;34m(\u001b[0m\u001b[0mcustom_message\u001b[0m\u001b[0;34m)\u001b[0m\u001b[0;34m\u001b[0m\u001b[0;34m\u001b[0m\u001b[0m\n\u001b[0m\u001b[1;32m     36\u001b[0m                 \u001b[0;32mreturn\u001b[0m \u001b[0;32mTrue\u001b[0m\u001b[0;34m\u001b[0m\u001b[0;34m\u001b[0m\u001b[0m\n\u001b[1;32m     37\u001b[0m             \u001b[0;32mreturn\u001b[0m \u001b[0mvalidator\u001b[0m\u001b[0;34m\u001b[0m\u001b[0;34m\u001b[0m\u001b[0m\n",
      "\u001b[0;31mValueError\u001b[0m: Phone number must start with +98 and be followed by 8 digits."
     ]
    }
   ],
   "source": [
    "validator.validate_phone_number(\"0912345678\")"
   ]
  },
  {
   "cell_type": "code",
   "execution_count": 28,
   "id": "c8440a19",
   "metadata": {},
   "outputs": [
    {
     "ename": "ValueError",
     "evalue": "Phone number must start with +98 and be followed by 8 digits.",
     "output_type": "error",
     "traceback": [
      "\u001b[0;31m---------------------------------------------------------------------------\u001b[0m",
      "\u001b[0;31mValueError\u001b[0m                                Traceback (most recent call last)",
      "\u001b[0;32m/tmp/ipykernel_30661/3220809739.py\u001b[0m in \u001b[0;36m<module>\u001b[0;34m\u001b[0m\n\u001b[0;32m----> 1\u001b[0;31m \u001b[0mvalidator\u001b[0m\u001b[0;34m.\u001b[0m\u001b[0mvalidate_phone_number\u001b[0m\u001b[0;34m(\u001b[0m\u001b[0;34m\"+981234567\"\u001b[0m\u001b[0;34m)\u001b[0m\u001b[0;34m\u001b[0m\u001b[0;34m\u001b[0m\u001b[0m\n\u001b[0m",
      "\u001b[0;32m/tmp/ipykernel_30661/4264903828.py\u001b[0m in \u001b[0;36mvalidator\u001b[0;34m(self, value)\u001b[0m\n\u001b[1;32m     33\u001b[0m             \u001b[0;32mdef\u001b[0m \u001b[0mvalidator\u001b[0m\u001b[0;34m(\u001b[0m\u001b[0mself\u001b[0m\u001b[0;34m,\u001b[0m \u001b[0mvalue\u001b[0m\u001b[0;34m)\u001b[0m\u001b[0;34m:\u001b[0m\u001b[0;34m\u001b[0m\u001b[0;34m\u001b[0m\u001b[0m\n\u001b[1;32m     34\u001b[0m                 \u001b[0;32mif\u001b[0m \u001b[0;32mnot\u001b[0m \u001b[0mre\u001b[0m\u001b[0;34m.\u001b[0m\u001b[0mmatch\u001b[0m\u001b[0;34m(\u001b[0m\u001b[0mrule\u001b[0m\u001b[0;34m,\u001b[0m \u001b[0mvalue\u001b[0m\u001b[0;34m)\u001b[0m\u001b[0;34m:\u001b[0m\u001b[0;34m\u001b[0m\u001b[0;34m\u001b[0m\u001b[0m\n\u001b[0;32m---> 35\u001b[0;31m                     \u001b[0;32mraise\u001b[0m \u001b[0mValueError\u001b[0m\u001b[0;34m(\u001b[0m\u001b[0mcustom_message\u001b[0m\u001b[0;34m)\u001b[0m\u001b[0;34m\u001b[0m\u001b[0;34m\u001b[0m\u001b[0m\n\u001b[0m\u001b[1;32m     36\u001b[0m                 \u001b[0;32mreturn\u001b[0m \u001b[0;32mTrue\u001b[0m\u001b[0;34m\u001b[0m\u001b[0;34m\u001b[0m\u001b[0m\n\u001b[1;32m     37\u001b[0m             \u001b[0;32mreturn\u001b[0m \u001b[0mvalidator\u001b[0m\u001b[0;34m\u001b[0m\u001b[0;34m\u001b[0m\u001b[0m\n",
      "\u001b[0;31mValueError\u001b[0m: Phone number must start with +98 and be followed by 8 digits."
     ]
    }
   ],
   "source": [
    "validator.validate_phone_number(\"+981234567\") "
   ]
  },
  {
   "cell_type": "markdown",
   "id": "0b5948a2",
   "metadata": {},
   "source": [
    "------------------------------------------------------------------------------------------------------------------------------------------------------------------------"
   ]
  },
  {
   "cell_type": "code",
   "execution_count": 15,
   "id": "ea4b9b7e",
   "metadata": {},
   "outputs": [
    {
     "data": {
      "text/plain": [
       "True"
      ]
     },
     "execution_count": 15,
     "metadata": {},
     "output_type": "execute_result"
    }
   ],
   "source": [
    "validator.validate_password(\"Abcd123@\")"
   ]
  },
  {
   "cell_type": "code",
   "execution_count": 17,
   "id": "2145dc42",
   "metadata": {},
   "outputs": [
    {
     "ename": "ValueError",
     "evalue": "Password must be between 8 and 12 characters and include at least one uppercase letter, one lowercase letter, one number, and one special character (*, @, %, !).",
     "output_type": "error",
     "traceback": [
      "\u001b[0;31m---------------------------------------------------------------------------\u001b[0m",
      "\u001b[0;31mValueError\u001b[0m                                Traceback (most recent call last)",
      "\u001b[0;32m/tmp/ipykernel_30661/3051347905.py\u001b[0m in \u001b[0;36m<module>\u001b[0;34m\u001b[0m\n\u001b[0;32m----> 1\u001b[0;31m \u001b[0mvalidator\u001b[0m\u001b[0;34m.\u001b[0m\u001b[0mvalidate_password\u001b[0m\u001b[0;34m(\u001b[0m\u001b[0;34m\"bcd123@\"\u001b[0m\u001b[0;34m)\u001b[0m\u001b[0;34m\u001b[0m\u001b[0;34m\u001b[0m\u001b[0m\n\u001b[0m",
      "\u001b[0;32m/tmp/ipykernel_30661/4264903828.py\u001b[0m in \u001b[0;36mvalidator\u001b[0;34m(self, value)\u001b[0m\n\u001b[1;32m     33\u001b[0m             \u001b[0;32mdef\u001b[0m \u001b[0mvalidator\u001b[0m\u001b[0;34m(\u001b[0m\u001b[0mself\u001b[0m\u001b[0;34m,\u001b[0m \u001b[0mvalue\u001b[0m\u001b[0;34m)\u001b[0m\u001b[0;34m:\u001b[0m\u001b[0;34m\u001b[0m\u001b[0;34m\u001b[0m\u001b[0m\n\u001b[1;32m     34\u001b[0m                 \u001b[0;32mif\u001b[0m \u001b[0;32mnot\u001b[0m \u001b[0mre\u001b[0m\u001b[0;34m.\u001b[0m\u001b[0mmatch\u001b[0m\u001b[0;34m(\u001b[0m\u001b[0mrule\u001b[0m\u001b[0;34m,\u001b[0m \u001b[0mvalue\u001b[0m\u001b[0;34m)\u001b[0m\u001b[0;34m:\u001b[0m\u001b[0;34m\u001b[0m\u001b[0;34m\u001b[0m\u001b[0m\n\u001b[0;32m---> 35\u001b[0;31m                     \u001b[0;32mraise\u001b[0m \u001b[0mValueError\u001b[0m\u001b[0;34m(\u001b[0m\u001b[0mcustom_message\u001b[0m\u001b[0;34m)\u001b[0m\u001b[0;34m\u001b[0m\u001b[0;34m\u001b[0m\u001b[0m\n\u001b[0m\u001b[1;32m     36\u001b[0m                 \u001b[0;32mreturn\u001b[0m \u001b[0;32mTrue\u001b[0m\u001b[0;34m\u001b[0m\u001b[0;34m\u001b[0m\u001b[0m\n\u001b[1;32m     37\u001b[0m             \u001b[0;32mreturn\u001b[0m \u001b[0mvalidator\u001b[0m\u001b[0;34m\u001b[0m\u001b[0;34m\u001b[0m\u001b[0m\n",
      "\u001b[0;31mValueError\u001b[0m: Password must be between 8 and 12 characters and include at least one uppercase letter, one lowercase letter, one number, and one special character (*, @, %, !)."
     ]
    }
   ],
   "source": [
    "validator.validate_password(\"bcd123@\")"
   ]
  },
  {
   "cell_type": "code",
   "execution_count": 25,
   "id": "f73f7b8a",
   "metadata": {},
   "outputs": [
    {
     "ename": "ValueError",
     "evalue": "Password must be between 8 and 12 characters and include at least one uppercase letter, one lowercase letter, one number, and one special character (*, @, %, !).",
     "output_type": "error",
     "traceback": [
      "\u001b[0;31m---------------------------------------------------------------------------\u001b[0m",
      "\u001b[0;31mValueError\u001b[0m                                Traceback (most recent call last)",
      "\u001b[0;32m/tmp/ipykernel_30661/3705216071.py\u001b[0m in \u001b[0;36m<module>\u001b[0;34m\u001b[0m\n\u001b[0;32m----> 1\u001b[0;31m \u001b[0mvalidator\u001b[0m\u001b[0;34m.\u001b[0m\u001b[0mvalidate_password\u001b[0m\u001b[0;34m(\u001b[0m\u001b[0;34m\"A123@\"\u001b[0m\u001b[0;34m)\u001b[0m\u001b[0;34m\u001b[0m\u001b[0;34m\u001b[0m\u001b[0m\n\u001b[0m",
      "\u001b[0;32m/tmp/ipykernel_30661/4264903828.py\u001b[0m in \u001b[0;36mvalidator\u001b[0;34m(self, value)\u001b[0m\n\u001b[1;32m     33\u001b[0m             \u001b[0;32mdef\u001b[0m \u001b[0mvalidator\u001b[0m\u001b[0;34m(\u001b[0m\u001b[0mself\u001b[0m\u001b[0;34m,\u001b[0m \u001b[0mvalue\u001b[0m\u001b[0;34m)\u001b[0m\u001b[0;34m:\u001b[0m\u001b[0;34m\u001b[0m\u001b[0;34m\u001b[0m\u001b[0m\n\u001b[1;32m     34\u001b[0m                 \u001b[0;32mif\u001b[0m \u001b[0;32mnot\u001b[0m \u001b[0mre\u001b[0m\u001b[0;34m.\u001b[0m\u001b[0mmatch\u001b[0m\u001b[0;34m(\u001b[0m\u001b[0mrule\u001b[0m\u001b[0;34m,\u001b[0m \u001b[0mvalue\u001b[0m\u001b[0;34m)\u001b[0m\u001b[0;34m:\u001b[0m\u001b[0;34m\u001b[0m\u001b[0;34m\u001b[0m\u001b[0m\n\u001b[0;32m---> 35\u001b[0;31m                     \u001b[0;32mraise\u001b[0m \u001b[0mValueError\u001b[0m\u001b[0;34m(\u001b[0m\u001b[0mcustom_message\u001b[0m\u001b[0;34m)\u001b[0m\u001b[0;34m\u001b[0m\u001b[0;34m\u001b[0m\u001b[0m\n\u001b[0m\u001b[1;32m     36\u001b[0m                 \u001b[0;32mreturn\u001b[0m \u001b[0;32mTrue\u001b[0m\u001b[0;34m\u001b[0m\u001b[0;34m\u001b[0m\u001b[0m\n\u001b[1;32m     37\u001b[0m             \u001b[0;32mreturn\u001b[0m \u001b[0mvalidator\u001b[0m\u001b[0;34m\u001b[0m\u001b[0;34m\u001b[0m\u001b[0m\n",
      "\u001b[0;31mValueError\u001b[0m: Password must be between 8 and 12 characters and include at least one uppercase letter, one lowercase letter, one number, and one special character (*, @, %, !)."
     ]
    }
   ],
   "source": [
    "validator.validate_password(\"A123@\")"
   ]
  },
  {
   "cell_type": "code",
   "execution_count": 26,
   "id": "eddd5f42",
   "metadata": {},
   "outputs": [
    {
     "ename": "ValueError",
     "evalue": "Password must be between 8 and 12 characters and include at least one uppercase letter, one lowercase letter, one number, and one special character (*, @, %, !).",
     "output_type": "error",
     "traceback": [
      "\u001b[0;31m---------------------------------------------------------------------------\u001b[0m",
      "\u001b[0;31mValueError\u001b[0m                                Traceback (most recent call last)",
      "\u001b[0;32m/tmp/ipykernel_30661/2674106193.py\u001b[0m in \u001b[0;36m<module>\u001b[0;34m\u001b[0m\n\u001b[0;32m----> 1\u001b[0;31m \u001b[0mvalidator\u001b[0m\u001b[0;34m.\u001b[0m\u001b[0mvalidate_password\u001b[0m\u001b[0;34m(\u001b[0m\u001b[0;34m\"Abcd@\"\u001b[0m\u001b[0;34m)\u001b[0m\u001b[0;34m\u001b[0m\u001b[0;34m\u001b[0m\u001b[0m\n\u001b[0m",
      "\u001b[0;32m/tmp/ipykernel_30661/4264903828.py\u001b[0m in \u001b[0;36mvalidator\u001b[0;34m(self, value)\u001b[0m\n\u001b[1;32m     33\u001b[0m             \u001b[0;32mdef\u001b[0m \u001b[0mvalidator\u001b[0m\u001b[0;34m(\u001b[0m\u001b[0mself\u001b[0m\u001b[0;34m,\u001b[0m \u001b[0mvalue\u001b[0m\u001b[0;34m)\u001b[0m\u001b[0;34m:\u001b[0m\u001b[0;34m\u001b[0m\u001b[0;34m\u001b[0m\u001b[0m\n\u001b[1;32m     34\u001b[0m                 \u001b[0;32mif\u001b[0m \u001b[0;32mnot\u001b[0m \u001b[0mre\u001b[0m\u001b[0;34m.\u001b[0m\u001b[0mmatch\u001b[0m\u001b[0;34m(\u001b[0m\u001b[0mrule\u001b[0m\u001b[0;34m,\u001b[0m \u001b[0mvalue\u001b[0m\u001b[0;34m)\u001b[0m\u001b[0;34m:\u001b[0m\u001b[0;34m\u001b[0m\u001b[0;34m\u001b[0m\u001b[0m\n\u001b[0;32m---> 35\u001b[0;31m                     \u001b[0;32mraise\u001b[0m \u001b[0mValueError\u001b[0m\u001b[0;34m(\u001b[0m\u001b[0mcustom_message\u001b[0m\u001b[0;34m)\u001b[0m\u001b[0;34m\u001b[0m\u001b[0;34m\u001b[0m\u001b[0m\n\u001b[0m\u001b[1;32m     36\u001b[0m                 \u001b[0;32mreturn\u001b[0m \u001b[0;32mTrue\u001b[0m\u001b[0;34m\u001b[0m\u001b[0;34m\u001b[0m\u001b[0m\n\u001b[1;32m     37\u001b[0m             \u001b[0;32mreturn\u001b[0m \u001b[0mvalidator\u001b[0m\u001b[0;34m\u001b[0m\u001b[0;34m\u001b[0m\u001b[0m\n",
      "\u001b[0;31mValueError\u001b[0m: Password must be between 8 and 12 characters and include at least one uppercase letter, one lowercase letter, one number, and one special character (*, @, %, !)."
     ]
    }
   ],
   "source": [
    "validator.validate_password(\"Abcd@\")"
   ]
  },
  {
   "cell_type": "code",
   "execution_count": 27,
   "id": "33ce0908",
   "metadata": {},
   "outputs": [
    {
     "ename": "ValueError",
     "evalue": "Password must be between 8 and 12 characters and include at least one uppercase letter, one lowercase letter, one number, and one special character (*, @, %, !).",
     "output_type": "error",
     "traceback": [
      "\u001b[0;31m---------------------------------------------------------------------------\u001b[0m",
      "\u001b[0;31mValueError\u001b[0m                                Traceback (most recent call last)",
      "\u001b[0;32m/tmp/ipykernel_30661/269649169.py\u001b[0m in \u001b[0;36m<module>\u001b[0;34m\u001b[0m\n\u001b[0;32m----> 1\u001b[0;31m \u001b[0mvalidator\u001b[0m\u001b[0;34m.\u001b[0m\u001b[0mvalidate_password\u001b[0m\u001b[0;34m(\u001b[0m\u001b[0;34m\"Abcd123\"\u001b[0m\u001b[0;34m)\u001b[0m\u001b[0;34m\u001b[0m\u001b[0;34m\u001b[0m\u001b[0m\n\u001b[0m",
      "\u001b[0;32m/tmp/ipykernel_30661/4264903828.py\u001b[0m in \u001b[0;36mvalidator\u001b[0;34m(self, value)\u001b[0m\n\u001b[1;32m     33\u001b[0m             \u001b[0;32mdef\u001b[0m \u001b[0mvalidator\u001b[0m\u001b[0;34m(\u001b[0m\u001b[0mself\u001b[0m\u001b[0;34m,\u001b[0m \u001b[0mvalue\u001b[0m\u001b[0;34m)\u001b[0m\u001b[0;34m:\u001b[0m\u001b[0;34m\u001b[0m\u001b[0;34m\u001b[0m\u001b[0m\n\u001b[1;32m     34\u001b[0m                 \u001b[0;32mif\u001b[0m \u001b[0;32mnot\u001b[0m \u001b[0mre\u001b[0m\u001b[0;34m.\u001b[0m\u001b[0mmatch\u001b[0m\u001b[0;34m(\u001b[0m\u001b[0mrule\u001b[0m\u001b[0;34m,\u001b[0m \u001b[0mvalue\u001b[0m\u001b[0;34m)\u001b[0m\u001b[0;34m:\u001b[0m\u001b[0;34m\u001b[0m\u001b[0;34m\u001b[0m\u001b[0m\n\u001b[0;32m---> 35\u001b[0;31m                     \u001b[0;32mraise\u001b[0m \u001b[0mValueError\u001b[0m\u001b[0;34m(\u001b[0m\u001b[0mcustom_message\u001b[0m\u001b[0;34m)\u001b[0m\u001b[0;34m\u001b[0m\u001b[0;34m\u001b[0m\u001b[0m\n\u001b[0m\u001b[1;32m     36\u001b[0m                 \u001b[0;32mreturn\u001b[0m \u001b[0;32mTrue\u001b[0m\u001b[0;34m\u001b[0m\u001b[0;34m\u001b[0m\u001b[0m\n\u001b[1;32m     37\u001b[0m             \u001b[0;32mreturn\u001b[0m \u001b[0mvalidator\u001b[0m\u001b[0;34m\u001b[0m\u001b[0;34m\u001b[0m\u001b[0m\n",
      "\u001b[0;31mValueError\u001b[0m: Password must be between 8 and 12 characters and include at least one uppercase letter, one lowercase letter, one number, and one special character (*, @, %, !)."
     ]
    }
   ],
   "source": [
    "validator.validate_password(\"Abcd123\")"
   ]
  },
  {
   "cell_type": "markdown",
   "id": "bab29138",
   "metadata": {},
   "source": [
    "------------------------------------------------------------------------------------------------------------------------------------------------------------------------"
   ]
  },
  {
   "cell_type": "code",
   "execution_count": null,
   "id": "77033ba8",
   "metadata": {},
   "outputs": [
    {
     "data": {
      "text/plain": [
       "True"
      ]
     },
     "execution_count": 18,
     "metadata": {},
     "output_type": "execute_result"
    }
   ],
   "source": [
    "validator.validate_product_code(\"AB123v-v1\") "
   ]
  },
  {
   "cell_type": "code",
   "execution_count": 19,
   "id": "8c392781",
   "metadata": {},
   "outputs": [
    {
     "data": {
      "text/plain": [
       "True"
      ]
     },
     "execution_count": 19,
     "metadata": {},
     "output_type": "execute_result"
    }
   ],
   "source": [
    "validator.validate_product_code(\"AB123v\") "
   ]
  },
  {
   "cell_type": "code",
   "execution_count": 20,
   "id": "49309538",
   "metadata": {},
   "outputs": [
    {
     "data": {
      "text/plain": [
       "True"
      ]
     },
     "execution_count": 20,
     "metadata": {},
     "output_type": "execute_result"
    }
   ],
   "source": [
    "validator.validate_product_code(\"AB123\") "
   ]
  },
  {
   "cell_type": "code",
   "execution_count": 23,
   "id": "65814bba",
   "metadata": {},
   "outputs": [
    {
     "ename": "ValueError",
     "evalue": "Product code must consist of 2 uppercase letters, 2 to 4 digits, an optional lowercase letter, and an optional version number (v1-v99).",
     "output_type": "error",
     "traceback": [
      "\u001b[0;31m---------------------------------------------------------------------------\u001b[0m",
      "\u001b[0;31mValueError\u001b[0m                                Traceback (most recent call last)",
      "\u001b[0;32m/tmp/ipykernel_30661/3015457663.py\u001b[0m in \u001b[0;36m<module>\u001b[0;34m\u001b[0m\n\u001b[0;32m----> 1\u001b[0;31m \u001b[0mvalidator\u001b[0m\u001b[0;34m.\u001b[0m\u001b[0mvalidate_product_code\u001b[0m\u001b[0;34m(\u001b[0m\u001b[0;34m\"AB123v-v100\"\u001b[0m\u001b[0;34m)\u001b[0m\u001b[0;34m\u001b[0m\u001b[0;34m\u001b[0m\u001b[0m\n\u001b[0m",
      "\u001b[0;32m/tmp/ipykernel_30661/4264903828.py\u001b[0m in \u001b[0;36mvalidator\u001b[0;34m(self, value)\u001b[0m\n\u001b[1;32m     33\u001b[0m             \u001b[0;32mdef\u001b[0m \u001b[0mvalidator\u001b[0m\u001b[0;34m(\u001b[0m\u001b[0mself\u001b[0m\u001b[0;34m,\u001b[0m \u001b[0mvalue\u001b[0m\u001b[0;34m)\u001b[0m\u001b[0;34m:\u001b[0m\u001b[0;34m\u001b[0m\u001b[0;34m\u001b[0m\u001b[0m\n\u001b[1;32m     34\u001b[0m                 \u001b[0;32mif\u001b[0m \u001b[0;32mnot\u001b[0m \u001b[0mre\u001b[0m\u001b[0;34m.\u001b[0m\u001b[0mmatch\u001b[0m\u001b[0;34m(\u001b[0m\u001b[0mrule\u001b[0m\u001b[0;34m,\u001b[0m \u001b[0mvalue\u001b[0m\u001b[0;34m)\u001b[0m\u001b[0;34m:\u001b[0m\u001b[0;34m\u001b[0m\u001b[0;34m\u001b[0m\u001b[0m\n\u001b[0;32m---> 35\u001b[0;31m                     \u001b[0;32mraise\u001b[0m \u001b[0mValueError\u001b[0m\u001b[0;34m(\u001b[0m\u001b[0mcustom_message\u001b[0m\u001b[0;34m)\u001b[0m\u001b[0;34m\u001b[0m\u001b[0;34m\u001b[0m\u001b[0m\n\u001b[0m\u001b[1;32m     36\u001b[0m                 \u001b[0;32mreturn\u001b[0m \u001b[0;32mTrue\u001b[0m\u001b[0;34m\u001b[0m\u001b[0;34m\u001b[0m\u001b[0m\n\u001b[1;32m     37\u001b[0m             \u001b[0;32mreturn\u001b[0m \u001b[0mvalidator\u001b[0m\u001b[0;34m\u001b[0m\u001b[0;34m\u001b[0m\u001b[0m\n",
      "\u001b[0;31mValueError\u001b[0m: Product code must consist of 2 uppercase letters, 2 to 4 digits, an optional lowercase letter, and an optional version number (v1-v99)."
     ]
    }
   ],
   "source": [
    "validator.validate_product_code(\"AB123v-v100\") "
   ]
  },
  {
   "cell_type": "code",
   "execution_count": 21,
   "id": "2e19f273",
   "metadata": {},
   "outputs": [
    {
     "ename": "ValueError",
     "evalue": "Product code must consist of 2 uppercase letters, 2 to 4 digits, an optional lowercase letter, and an optional version number (v1-v99).",
     "output_type": "error",
     "traceback": [
      "\u001b[0;31m---------------------------------------------------------------------------\u001b[0m",
      "\u001b[0;31mValueError\u001b[0m                                Traceback (most recent call last)",
      "\u001b[0;32m/tmp/ipykernel_30661/3550809286.py\u001b[0m in \u001b[0;36m<module>\u001b[0;34m\u001b[0m\n\u001b[0;32m----> 1\u001b[0;31m \u001b[0mvalidator\u001b[0m\u001b[0;34m.\u001b[0m\u001b[0mvalidate_product_code\u001b[0m\u001b[0;34m(\u001b[0m\u001b[0;34m\"A123B\"\u001b[0m\u001b[0;34m)\u001b[0m\u001b[0;34m\u001b[0m\u001b[0;34m\u001b[0m\u001b[0m\n\u001b[0m",
      "\u001b[0;32m/tmp/ipykernel_30661/4264903828.py\u001b[0m in \u001b[0;36mvalidator\u001b[0;34m(self, value)\u001b[0m\n\u001b[1;32m     33\u001b[0m             \u001b[0;32mdef\u001b[0m \u001b[0mvalidator\u001b[0m\u001b[0;34m(\u001b[0m\u001b[0mself\u001b[0m\u001b[0;34m,\u001b[0m \u001b[0mvalue\u001b[0m\u001b[0;34m)\u001b[0m\u001b[0;34m:\u001b[0m\u001b[0;34m\u001b[0m\u001b[0;34m\u001b[0m\u001b[0m\n\u001b[1;32m     34\u001b[0m                 \u001b[0;32mif\u001b[0m \u001b[0;32mnot\u001b[0m \u001b[0mre\u001b[0m\u001b[0;34m.\u001b[0m\u001b[0mmatch\u001b[0m\u001b[0;34m(\u001b[0m\u001b[0mrule\u001b[0m\u001b[0;34m,\u001b[0m \u001b[0mvalue\u001b[0m\u001b[0;34m)\u001b[0m\u001b[0;34m:\u001b[0m\u001b[0;34m\u001b[0m\u001b[0;34m\u001b[0m\u001b[0m\n\u001b[0;32m---> 35\u001b[0;31m                     \u001b[0;32mraise\u001b[0m \u001b[0mValueError\u001b[0m\u001b[0;34m(\u001b[0m\u001b[0mcustom_message\u001b[0m\u001b[0;34m)\u001b[0m\u001b[0;34m\u001b[0m\u001b[0;34m\u001b[0m\u001b[0m\n\u001b[0m\u001b[1;32m     36\u001b[0m                 \u001b[0;32mreturn\u001b[0m \u001b[0;32mTrue\u001b[0m\u001b[0;34m\u001b[0m\u001b[0;34m\u001b[0m\u001b[0m\n\u001b[1;32m     37\u001b[0m             \u001b[0;32mreturn\u001b[0m \u001b[0mvalidator\u001b[0m\u001b[0;34m\u001b[0m\u001b[0;34m\u001b[0m\u001b[0m\n",
      "\u001b[0;31mValueError\u001b[0m: Product code must consist of 2 uppercase letters, 2 to 4 digits, an optional lowercase letter, and an optional version number (v1-v99)."
     ]
    }
   ],
   "source": [
    "validator.validate_product_code(\"A123B\") "
   ]
  },
  {
   "cell_type": "code",
   "execution_count": 22,
   "id": "017426c3",
   "metadata": {},
   "outputs": [
    {
     "ename": "ValueError",
     "evalue": "Product code must consist of 2 uppercase letters, 2 to 4 digits, an optional lowercase letter, and an optional version number (v1-v99).",
     "output_type": "error",
     "traceback": [
      "\u001b[0;31m---------------------------------------------------------------------------\u001b[0m",
      "\u001b[0;31mValueError\u001b[0m                                Traceback (most recent call last)",
      "\u001b[0;32m/tmp/ipykernel_30661/2265345989.py\u001b[0m in \u001b[0;36m<module>\u001b[0;34m\u001b[0m\n\u001b[0;32m----> 1\u001b[0;31m \u001b[0mvalidator\u001b[0m\u001b[0;34m.\u001b[0m\u001b[0mvalidate_product_code\u001b[0m\u001b[0;34m(\u001b[0m\u001b[0;34m\"A123\"\u001b[0m\u001b[0;34m)\u001b[0m\u001b[0;34m\u001b[0m\u001b[0;34m\u001b[0m\u001b[0m\n\u001b[0m",
      "\u001b[0;32m/tmp/ipykernel_30661/4264903828.py\u001b[0m in \u001b[0;36mvalidator\u001b[0;34m(self, value)\u001b[0m\n\u001b[1;32m     33\u001b[0m             \u001b[0;32mdef\u001b[0m \u001b[0mvalidator\u001b[0m\u001b[0;34m(\u001b[0m\u001b[0mself\u001b[0m\u001b[0;34m,\u001b[0m \u001b[0mvalue\u001b[0m\u001b[0;34m)\u001b[0m\u001b[0;34m:\u001b[0m\u001b[0;34m\u001b[0m\u001b[0;34m\u001b[0m\u001b[0m\n\u001b[1;32m     34\u001b[0m                 \u001b[0;32mif\u001b[0m \u001b[0;32mnot\u001b[0m \u001b[0mre\u001b[0m\u001b[0;34m.\u001b[0m\u001b[0mmatch\u001b[0m\u001b[0;34m(\u001b[0m\u001b[0mrule\u001b[0m\u001b[0;34m,\u001b[0m \u001b[0mvalue\u001b[0m\u001b[0;34m)\u001b[0m\u001b[0;34m:\u001b[0m\u001b[0;34m\u001b[0m\u001b[0;34m\u001b[0m\u001b[0m\n\u001b[0;32m---> 35\u001b[0;31m                     \u001b[0;32mraise\u001b[0m \u001b[0mValueError\u001b[0m\u001b[0;34m(\u001b[0m\u001b[0mcustom_message\u001b[0m\u001b[0;34m)\u001b[0m\u001b[0;34m\u001b[0m\u001b[0;34m\u001b[0m\u001b[0m\n\u001b[0m\u001b[1;32m     36\u001b[0m                 \u001b[0;32mreturn\u001b[0m \u001b[0;32mTrue\u001b[0m\u001b[0;34m\u001b[0m\u001b[0;34m\u001b[0m\u001b[0m\n\u001b[1;32m     37\u001b[0m             \u001b[0;32mreturn\u001b[0m \u001b[0mvalidator\u001b[0m\u001b[0;34m\u001b[0m\u001b[0;34m\u001b[0m\u001b[0m\n",
      "\u001b[0;31mValueError\u001b[0m: Product code must consist of 2 uppercase letters, 2 to 4 digits, an optional lowercase letter, and an optional version number (v1-v99)."
     ]
    }
   ],
   "source": [
    "validator.validate_product_code(\"A123\") "
   ]
  },
  {
   "cell_type": "code",
   "execution_count": 24,
   "id": "62109a56",
   "metadata": {},
   "outputs": [
    {
     "ename": "ValueError",
     "evalue": "Product code must consist of 2 uppercase letters, 2 to 4 digits, an optional lowercase letter, and an optional version number (v1-v99).",
     "output_type": "error",
     "traceback": [
      "\u001b[0;31m---------------------------------------------------------------------------\u001b[0m",
      "\u001b[0;31mValueError\u001b[0m                                Traceback (most recent call last)",
      "\u001b[0;32m/tmp/ipykernel_30661/2246077296.py\u001b[0m in \u001b[0;36m<module>\u001b[0;34m\u001b[0m\n\u001b[0;32m----> 1\u001b[0;31m \u001b[0mvalidator\u001b[0m\u001b[0;34m.\u001b[0m\u001b[0mvalidate_product_code\u001b[0m\u001b[0;34m(\u001b[0m\u001b[0;34m\"AB123vv-v1\"\u001b[0m\u001b[0;34m)\u001b[0m\u001b[0;34m\u001b[0m\u001b[0;34m\u001b[0m\u001b[0m\n\u001b[0m",
      "\u001b[0;32m/tmp/ipykernel_30661/4264903828.py\u001b[0m in \u001b[0;36mvalidator\u001b[0;34m(self, value)\u001b[0m\n\u001b[1;32m     33\u001b[0m             \u001b[0;32mdef\u001b[0m \u001b[0mvalidator\u001b[0m\u001b[0;34m(\u001b[0m\u001b[0mself\u001b[0m\u001b[0;34m,\u001b[0m \u001b[0mvalue\u001b[0m\u001b[0;34m)\u001b[0m\u001b[0;34m:\u001b[0m\u001b[0;34m\u001b[0m\u001b[0;34m\u001b[0m\u001b[0m\n\u001b[1;32m     34\u001b[0m                 \u001b[0;32mif\u001b[0m \u001b[0;32mnot\u001b[0m \u001b[0mre\u001b[0m\u001b[0;34m.\u001b[0m\u001b[0mmatch\u001b[0m\u001b[0;34m(\u001b[0m\u001b[0mrule\u001b[0m\u001b[0;34m,\u001b[0m \u001b[0mvalue\u001b[0m\u001b[0;34m)\u001b[0m\u001b[0;34m:\u001b[0m\u001b[0;34m\u001b[0m\u001b[0;34m\u001b[0m\u001b[0m\n\u001b[0;32m---> 35\u001b[0;31m                     \u001b[0;32mraise\u001b[0m \u001b[0mValueError\u001b[0m\u001b[0;34m(\u001b[0m\u001b[0mcustom_message\u001b[0m\u001b[0;34m)\u001b[0m\u001b[0;34m\u001b[0m\u001b[0;34m\u001b[0m\u001b[0m\n\u001b[0m\u001b[1;32m     36\u001b[0m                 \u001b[0;32mreturn\u001b[0m \u001b[0;32mTrue\u001b[0m\u001b[0;34m\u001b[0m\u001b[0;34m\u001b[0m\u001b[0m\n\u001b[1;32m     37\u001b[0m             \u001b[0;32mreturn\u001b[0m \u001b[0mvalidator\u001b[0m\u001b[0;34m\u001b[0m\u001b[0;34m\u001b[0m\u001b[0m\n",
      "\u001b[0;31mValueError\u001b[0m: Product code must consist of 2 uppercase letters, 2 to 4 digits, an optional lowercase letter, and an optional version number (v1-v99)."
     ]
    }
   ],
   "source": [
    "validator.validate_product_code(\"AB123vv-v1\") "
   ]
  },
  {
   "cell_type": "markdown",
   "id": "29f81359",
   "metadata": {},
   "source": [
    "------------------------------------------------------------------------------------------------------------------------------------------------------------------------"
   ]
  },
  {
   "cell_type": "code",
   "execution_count": 42,
   "id": "bbcfe674",
   "metadata": {},
   "outputs": [
    {
     "data": {
      "text/plain": [
       "True"
      ]
     },
     "execution_count": 42,
     "metadata": {},
     "output_type": "execute_result"
    }
   ],
   "source": [
    "validator.validate_stop_word(\"Stop\") "
   ]
  },
  {
   "cell_type": "code",
   "execution_count": 43,
   "id": "d8246782",
   "metadata": {},
   "outputs": [
    {
     "data": {
      "text/plain": [
       "True"
      ]
     },
     "execution_count": 43,
     "metadata": {},
     "output_type": "execute_result"
    }
   ],
   "source": [
    "validator.validate_stop_word(\"stop\") "
   ]
  },
  {
   "cell_type": "code",
   "execution_count": 44,
   "id": "953dcaa0",
   "metadata": {},
   "outputs": [
    {
     "ename": "ValueError",
     "evalue": "The word \"Stop\" or \"stop\" must be separate and not part of a larger word or attached to punctuation.",
     "output_type": "error",
     "traceback": [
      "\u001b[0;31m---------------------------------------------------------------------------\u001b[0m",
      "\u001b[0;31mValueError\u001b[0m                                Traceback (most recent call last)",
      "\u001b[0;32m/tmp/ipykernel_30661/1809168900.py\u001b[0m in \u001b[0;36m<module>\u001b[0;34m\u001b[0m\n\u001b[0;32m----> 1\u001b[0;31m \u001b[0mvalidator\u001b[0m\u001b[0;34m.\u001b[0m\u001b[0mvalidate_stop_word\u001b[0m\u001b[0;34m(\u001b[0m\u001b[0;34m\"Stopped\"\u001b[0m\u001b[0;34m)\u001b[0m\u001b[0;34m\u001b[0m\u001b[0;34m\u001b[0m\u001b[0m\n\u001b[0m",
      "\u001b[0;32m/tmp/ipykernel_30661/2633382597.py\u001b[0m in \u001b[0;36mvalidator\u001b[0;34m(self, value)\u001b[0m\n\u001b[1;32m     33\u001b[0m             \u001b[0;32mdef\u001b[0m \u001b[0mvalidator\u001b[0m\u001b[0;34m(\u001b[0m\u001b[0mself\u001b[0m\u001b[0;34m,\u001b[0m \u001b[0mvalue\u001b[0m\u001b[0;34m)\u001b[0m\u001b[0;34m:\u001b[0m\u001b[0;34m\u001b[0m\u001b[0;34m\u001b[0m\u001b[0m\n\u001b[1;32m     34\u001b[0m                 \u001b[0;32mif\u001b[0m \u001b[0;32mnot\u001b[0m \u001b[0mre\u001b[0m\u001b[0;34m.\u001b[0m\u001b[0mmatch\u001b[0m\u001b[0;34m(\u001b[0m\u001b[0mrule\u001b[0m\u001b[0;34m,\u001b[0m \u001b[0mvalue\u001b[0m\u001b[0;34m)\u001b[0m\u001b[0;34m:\u001b[0m\u001b[0;34m\u001b[0m\u001b[0;34m\u001b[0m\u001b[0m\n\u001b[0;32m---> 35\u001b[0;31m                     \u001b[0;32mraise\u001b[0m \u001b[0mValueError\u001b[0m\u001b[0;34m(\u001b[0m\u001b[0mcustom_message\u001b[0m\u001b[0;34m)\u001b[0m\u001b[0;34m\u001b[0m\u001b[0;34m\u001b[0m\u001b[0m\n\u001b[0m\u001b[1;32m     36\u001b[0m                 \u001b[0;32mreturn\u001b[0m \u001b[0;32mTrue\u001b[0m\u001b[0;34m\u001b[0m\u001b[0;34m\u001b[0m\u001b[0m\n\u001b[1;32m     37\u001b[0m             \u001b[0;32mreturn\u001b[0m \u001b[0mvalidator\u001b[0m\u001b[0;34m\u001b[0m\u001b[0;34m\u001b[0m\u001b[0m\n",
      "\u001b[0;31mValueError\u001b[0m: The word \"Stop\" or \"stop\" must be separate and not part of a larger word or attached to punctuation."
     ]
    }
   ],
   "source": [
    "validator.validate_stop_word(\"Stopped\") "
   ]
  },
  {
   "cell_type": "code",
   "execution_count": 41,
   "id": "eeb6a622",
   "metadata": {},
   "outputs": [
    {
     "ename": "ValueError",
     "evalue": "The word \"Stop\" or \"stop\" must be separate and not part of a larger word or attached to punctuation.",
     "output_type": "error",
     "traceback": [
      "\u001b[0;31m---------------------------------------------------------------------------\u001b[0m",
      "\u001b[0;31mValueError\u001b[0m                                Traceback (most recent call last)",
      "\u001b[0;32m/tmp/ipykernel_30661/2876568930.py\u001b[0m in \u001b[0;36m<module>\u001b[0;34m\u001b[0m\n\u001b[0;32m----> 1\u001b[0;31m \u001b[0mvalidator\u001b[0m\u001b[0;34m.\u001b[0m\u001b[0mvalidate_stop_word\u001b[0m\u001b[0;34m(\u001b[0m\u001b[0;34m\"Stop.\"\u001b[0m\u001b[0;34m)\u001b[0m\u001b[0;34m\u001b[0m\u001b[0;34m\u001b[0m\u001b[0m\n\u001b[0m",
      "\u001b[0;32m/tmp/ipykernel_30661/2633382597.py\u001b[0m in \u001b[0;36mvalidator\u001b[0;34m(self, value)\u001b[0m\n\u001b[1;32m     33\u001b[0m             \u001b[0;32mdef\u001b[0m \u001b[0mvalidator\u001b[0m\u001b[0;34m(\u001b[0m\u001b[0mself\u001b[0m\u001b[0;34m,\u001b[0m \u001b[0mvalue\u001b[0m\u001b[0;34m)\u001b[0m\u001b[0;34m:\u001b[0m\u001b[0;34m\u001b[0m\u001b[0;34m\u001b[0m\u001b[0m\n\u001b[1;32m     34\u001b[0m                 \u001b[0;32mif\u001b[0m \u001b[0;32mnot\u001b[0m \u001b[0mre\u001b[0m\u001b[0;34m.\u001b[0m\u001b[0mmatch\u001b[0m\u001b[0;34m(\u001b[0m\u001b[0mrule\u001b[0m\u001b[0;34m,\u001b[0m \u001b[0mvalue\u001b[0m\u001b[0;34m)\u001b[0m\u001b[0;34m:\u001b[0m\u001b[0;34m\u001b[0m\u001b[0;34m\u001b[0m\u001b[0m\n\u001b[0;32m---> 35\u001b[0;31m                     \u001b[0;32mraise\u001b[0m \u001b[0mValueError\u001b[0m\u001b[0;34m(\u001b[0m\u001b[0mcustom_message\u001b[0m\u001b[0;34m)\u001b[0m\u001b[0;34m\u001b[0m\u001b[0;34m\u001b[0m\u001b[0m\n\u001b[0m\u001b[1;32m     36\u001b[0m                 \u001b[0;32mreturn\u001b[0m \u001b[0;32mTrue\u001b[0m\u001b[0;34m\u001b[0m\u001b[0;34m\u001b[0m\u001b[0m\n\u001b[1;32m     37\u001b[0m             \u001b[0;32mreturn\u001b[0m \u001b[0mvalidator\u001b[0m\u001b[0;34m\u001b[0m\u001b[0;34m\u001b[0m\u001b[0m\n",
      "\u001b[0;31mValueError\u001b[0m: The word \"Stop\" or \"stop\" must be separate and not part of a larger word or attached to punctuation."
     ]
    }
   ],
   "source": [
    "validator.validate_stop_word(\"Stop.\") "
   ]
  },
  {
   "cell_type": "markdown",
   "id": "7e967923",
   "metadata": {},
   "source": [
    "------------------------------------------------------------------------------------------------------------------------------------------------------------------------"
   ]
  },
  {
   "cell_type": "code",
   "execution_count": 45,
   "id": "700234f6",
   "metadata": {},
   "outputs": [
    {
     "data": {
      "text/plain": [
       "True"
      ]
     },
     "execution_count": 45,
     "metadata": {},
     "output_type": "execute_result"
    }
   ],
   "source": [
    "validator.validate_repeated_phrase(\"some students like some students\")"
   ]
  },
  {
   "cell_type": "code",
   "execution_count": 46,
   "id": "bbfd6c9b",
   "metadata": {},
   "outputs": [
    {
     "ename": "ValueError",
     "evalue": "The phrase \"some students\" or \"many employees\" must repeat exactly, with no different terms in between.",
     "output_type": "error",
     "traceback": [
      "\u001b[0;31m---------------------------------------------------------------------------\u001b[0m",
      "\u001b[0;31mValueError\u001b[0m                                Traceback (most recent call last)",
      "\u001b[0;32m/tmp/ipykernel_30661/2682537231.py\u001b[0m in \u001b[0;36m<module>\u001b[0;34m\u001b[0m\n\u001b[0;32m----> 1\u001b[0;31m \u001b[0mvalidator\u001b[0m\u001b[0;34m.\u001b[0m\u001b[0mvalidate_repeated_phrase\u001b[0m\u001b[0;34m(\u001b[0m\u001b[0;34m\"some students and many employees\"\u001b[0m\u001b[0;34m)\u001b[0m\u001b[0;34m\u001b[0m\u001b[0;34m\u001b[0m\u001b[0m\n\u001b[0m",
      "\u001b[0;32m/tmp/ipykernel_30661/2633382597.py\u001b[0m in \u001b[0;36mvalidator\u001b[0;34m(self, value)\u001b[0m\n\u001b[1;32m     33\u001b[0m             \u001b[0;32mdef\u001b[0m \u001b[0mvalidator\u001b[0m\u001b[0;34m(\u001b[0m\u001b[0mself\u001b[0m\u001b[0;34m,\u001b[0m \u001b[0mvalue\u001b[0m\u001b[0;34m)\u001b[0m\u001b[0;34m:\u001b[0m\u001b[0;34m\u001b[0m\u001b[0;34m\u001b[0m\u001b[0m\n\u001b[1;32m     34\u001b[0m                 \u001b[0;32mif\u001b[0m \u001b[0;32mnot\u001b[0m \u001b[0mre\u001b[0m\u001b[0;34m.\u001b[0m\u001b[0mmatch\u001b[0m\u001b[0;34m(\u001b[0m\u001b[0mrule\u001b[0m\u001b[0;34m,\u001b[0m \u001b[0mvalue\u001b[0m\u001b[0;34m)\u001b[0m\u001b[0;34m:\u001b[0m\u001b[0;34m\u001b[0m\u001b[0;34m\u001b[0m\u001b[0m\n\u001b[0;32m---> 35\u001b[0;31m                     \u001b[0;32mraise\u001b[0m \u001b[0mValueError\u001b[0m\u001b[0;34m(\u001b[0m\u001b[0mcustom_message\u001b[0m\u001b[0;34m)\u001b[0m\u001b[0;34m\u001b[0m\u001b[0;34m\u001b[0m\u001b[0m\n\u001b[0m\u001b[1;32m     36\u001b[0m                 \u001b[0;32mreturn\u001b[0m \u001b[0;32mTrue\u001b[0m\u001b[0;34m\u001b[0m\u001b[0;34m\u001b[0m\u001b[0m\n\u001b[1;32m     37\u001b[0m             \u001b[0;32mreturn\u001b[0m \u001b[0mvalidator\u001b[0m\u001b[0;34m\u001b[0m\u001b[0;34m\u001b[0m\u001b[0m\n",
      "\u001b[0;31mValueError\u001b[0m: The phrase \"some students\" or \"many employees\" must repeat exactly, with no different terms in between."
     ]
    }
   ],
   "source": [
    "validator.validate_repeated_phrase(\"some students and many employees\")"
   ]
  },
  {
   "cell_type": "markdown",
   "id": "0fa5d8e0",
   "metadata": {},
   "source": [
    "------------------------------------------------------------------------------------------------------------------------------------------------------------------------"
   ]
  },
  {
   "cell_type": "code",
   "execution_count": 48,
   "id": "508ecf41",
   "metadata": {},
   "outputs": [
    {
     "data": {
      "text/plain": [
       "True"
      ]
     },
     "execution_count": 48,
     "metadata": {},
     "output_type": "execute_result"
    }
   ],
   "source": [
    "validator.validate_date(\"1403/06/31\") "
   ]
  },
  {
   "cell_type": "code",
   "execution_count": 49,
   "id": "ab275016",
   "metadata": {},
   "outputs": [
    {
     "ename": "ValueError",
     "evalue": "Date must be in YYYY/MM/DD format, with valid month and day values.",
     "output_type": "error",
     "traceback": [
      "\u001b[0;31m---------------------------------------------------------------------------\u001b[0m",
      "\u001b[0;31mValueError\u001b[0m                                Traceback (most recent call last)",
      "\u001b[0;32m/tmp/ipykernel_30661/2099813351.py\u001b[0m in \u001b[0;36m<module>\u001b[0;34m\u001b[0m\n\u001b[0;32m----> 1\u001b[0;31m \u001b[0mvalidator\u001b[0m\u001b[0;34m.\u001b[0m\u001b[0mvalidate_date\u001b[0m\u001b[0;34m(\u001b[0m\u001b[0;34m\"1403/07/31\"\u001b[0m\u001b[0;34m)\u001b[0m\u001b[0;34m\u001b[0m\u001b[0;34m\u001b[0m\u001b[0m\n\u001b[0m",
      "\u001b[0;32m/tmp/ipykernel_30661/2633382597.py\u001b[0m in \u001b[0;36mvalidator\u001b[0;34m(self, value)\u001b[0m\n\u001b[1;32m     33\u001b[0m             \u001b[0;32mdef\u001b[0m \u001b[0mvalidator\u001b[0m\u001b[0;34m(\u001b[0m\u001b[0mself\u001b[0m\u001b[0;34m,\u001b[0m \u001b[0mvalue\u001b[0m\u001b[0;34m)\u001b[0m\u001b[0;34m:\u001b[0m\u001b[0;34m\u001b[0m\u001b[0;34m\u001b[0m\u001b[0m\n\u001b[1;32m     34\u001b[0m                 \u001b[0;32mif\u001b[0m \u001b[0;32mnot\u001b[0m \u001b[0mre\u001b[0m\u001b[0;34m.\u001b[0m\u001b[0mmatch\u001b[0m\u001b[0;34m(\u001b[0m\u001b[0mrule\u001b[0m\u001b[0;34m,\u001b[0m \u001b[0mvalue\u001b[0m\u001b[0;34m)\u001b[0m\u001b[0;34m:\u001b[0m\u001b[0;34m\u001b[0m\u001b[0;34m\u001b[0m\u001b[0m\n\u001b[0;32m---> 35\u001b[0;31m                     \u001b[0;32mraise\u001b[0m \u001b[0mValueError\u001b[0m\u001b[0;34m(\u001b[0m\u001b[0mcustom_message\u001b[0m\u001b[0;34m)\u001b[0m\u001b[0;34m\u001b[0m\u001b[0;34m\u001b[0m\u001b[0m\n\u001b[0m\u001b[1;32m     36\u001b[0m                 \u001b[0;32mreturn\u001b[0m \u001b[0;32mTrue\u001b[0m\u001b[0;34m\u001b[0m\u001b[0;34m\u001b[0m\u001b[0m\n\u001b[1;32m     37\u001b[0m             \u001b[0;32mreturn\u001b[0m \u001b[0mvalidator\u001b[0m\u001b[0;34m\u001b[0m\u001b[0;34m\u001b[0m\u001b[0m\n",
      "\u001b[0;31mValueError\u001b[0m: Date must be in YYYY/MM/DD format, with valid month and day values."
     ]
    }
   ],
   "source": [
    "validator.validate_date(\"1403/07/31\") "
   ]
  },
  {
   "cell_type": "code",
   "execution_count": 50,
   "id": "f36338fa",
   "metadata": {},
   "outputs": [
    {
     "ename": "ValueError",
     "evalue": "Date must be in YYYY/MM/DD format, with valid month and day values.",
     "output_type": "error",
     "traceback": [
      "\u001b[0;31m---------------------------------------------------------------------------\u001b[0m",
      "\u001b[0;31mValueError\u001b[0m                                Traceback (most recent call last)",
      "\u001b[0;32m/tmp/ipykernel_30661/530810648.py\u001b[0m in \u001b[0;36m<module>\u001b[0;34m\u001b[0m\n\u001b[0;32m----> 1\u001b[0;31m \u001b[0mvalidator\u001b[0m\u001b[0;34m.\u001b[0m\u001b[0mvalidate_date\u001b[0m\u001b[0;34m(\u001b[0m\u001b[0;34m\"1403/12/31\"\u001b[0m\u001b[0;34m)\u001b[0m\u001b[0;34m\u001b[0m\u001b[0;34m\u001b[0m\u001b[0m\n\u001b[0m",
      "\u001b[0;32m/tmp/ipykernel_30661/2633382597.py\u001b[0m in \u001b[0;36mvalidator\u001b[0;34m(self, value)\u001b[0m\n\u001b[1;32m     33\u001b[0m             \u001b[0;32mdef\u001b[0m \u001b[0mvalidator\u001b[0m\u001b[0;34m(\u001b[0m\u001b[0mself\u001b[0m\u001b[0;34m,\u001b[0m \u001b[0mvalue\u001b[0m\u001b[0;34m)\u001b[0m\u001b[0;34m:\u001b[0m\u001b[0;34m\u001b[0m\u001b[0;34m\u001b[0m\u001b[0m\n\u001b[1;32m     34\u001b[0m                 \u001b[0;32mif\u001b[0m \u001b[0;32mnot\u001b[0m \u001b[0mre\u001b[0m\u001b[0;34m.\u001b[0m\u001b[0mmatch\u001b[0m\u001b[0;34m(\u001b[0m\u001b[0mrule\u001b[0m\u001b[0;34m,\u001b[0m \u001b[0mvalue\u001b[0m\u001b[0;34m)\u001b[0m\u001b[0;34m:\u001b[0m\u001b[0;34m\u001b[0m\u001b[0;34m\u001b[0m\u001b[0m\n\u001b[0;32m---> 35\u001b[0;31m                     \u001b[0;32mraise\u001b[0m \u001b[0mValueError\u001b[0m\u001b[0;34m(\u001b[0m\u001b[0mcustom_message\u001b[0m\u001b[0;34m)\u001b[0m\u001b[0;34m\u001b[0m\u001b[0;34m\u001b[0m\u001b[0m\n\u001b[0m\u001b[1;32m     36\u001b[0m                 \u001b[0;32mreturn\u001b[0m \u001b[0;32mTrue\u001b[0m\u001b[0;34m\u001b[0m\u001b[0;34m\u001b[0m\u001b[0m\n\u001b[1;32m     37\u001b[0m             \u001b[0;32mreturn\u001b[0m \u001b[0mvalidator\u001b[0m\u001b[0;34m\u001b[0m\u001b[0;34m\u001b[0m\u001b[0m\n",
      "\u001b[0;31mValueError\u001b[0m: Date must be in YYYY/MM/DD format, with valid month and day values."
     ]
    }
   ],
   "source": [
    "validator.validate_date(\"1403/12/31\") "
   ]
  },
  {
   "cell_type": "code",
   "execution_count": 51,
   "id": "39f49635",
   "metadata": {},
   "outputs": [
    {
     "ename": "ValueError",
     "evalue": "Date must be in YYYY/MM/DD format, with valid month and day values.",
     "output_type": "error",
     "traceback": [
      "\u001b[0;31m---------------------------------------------------------------------------\u001b[0m",
      "\u001b[0;31mValueError\u001b[0m                                Traceback (most recent call last)",
      "\u001b[0;32m/tmp/ipykernel_30661/2167978139.py\u001b[0m in \u001b[0;36m<module>\u001b[0;34m\u001b[0m\n\u001b[0;32m----> 1\u001b[0;31m \u001b[0mvalidator\u001b[0m\u001b[0;34m.\u001b[0m\u001b[0mvalidate_date\u001b[0m\u001b[0;34m(\u001b[0m\u001b[0;34m\"403/06/31\"\u001b[0m\u001b[0;34m)\u001b[0m\u001b[0;34m\u001b[0m\u001b[0;34m\u001b[0m\u001b[0m\n\u001b[0m",
      "\u001b[0;32m/tmp/ipykernel_30661/2633382597.py\u001b[0m in \u001b[0;36mvalidator\u001b[0;34m(self, value)\u001b[0m\n\u001b[1;32m     33\u001b[0m             \u001b[0;32mdef\u001b[0m \u001b[0mvalidator\u001b[0m\u001b[0;34m(\u001b[0m\u001b[0mself\u001b[0m\u001b[0;34m,\u001b[0m \u001b[0mvalue\u001b[0m\u001b[0;34m)\u001b[0m\u001b[0;34m:\u001b[0m\u001b[0;34m\u001b[0m\u001b[0;34m\u001b[0m\u001b[0m\n\u001b[1;32m     34\u001b[0m                 \u001b[0;32mif\u001b[0m \u001b[0;32mnot\u001b[0m \u001b[0mre\u001b[0m\u001b[0;34m.\u001b[0m\u001b[0mmatch\u001b[0m\u001b[0;34m(\u001b[0m\u001b[0mrule\u001b[0m\u001b[0;34m,\u001b[0m \u001b[0mvalue\u001b[0m\u001b[0;34m)\u001b[0m\u001b[0;34m:\u001b[0m\u001b[0;34m\u001b[0m\u001b[0;34m\u001b[0m\u001b[0m\n\u001b[0;32m---> 35\u001b[0;31m                     \u001b[0;32mraise\u001b[0m \u001b[0mValueError\u001b[0m\u001b[0;34m(\u001b[0m\u001b[0mcustom_message\u001b[0m\u001b[0;34m)\u001b[0m\u001b[0;34m\u001b[0m\u001b[0;34m\u001b[0m\u001b[0m\n\u001b[0m\u001b[1;32m     36\u001b[0m                 \u001b[0;32mreturn\u001b[0m \u001b[0;32mTrue\u001b[0m\u001b[0;34m\u001b[0m\u001b[0;34m\u001b[0m\u001b[0m\n\u001b[1;32m     37\u001b[0m             \u001b[0;32mreturn\u001b[0m \u001b[0mvalidator\u001b[0m\u001b[0;34m\u001b[0m\u001b[0;34m\u001b[0m\u001b[0m\n",
      "\u001b[0;31mValueError\u001b[0m: Date must be in YYYY/MM/DD format, with valid month and day values."
     ]
    }
   ],
   "source": [
    "validator.validate_date(\"403/06/31\") "
   ]
  },
  {
   "cell_type": "markdown",
   "id": "3490e172",
   "metadata": {},
   "source": [
    "------------------------------------------------------------------------------------------------------------------------------------------------------------------------"
   ]
  },
  {
   "cell_type": "code",
   "execution_count": 52,
   "id": "c235d6c3",
   "metadata": {},
   "outputs": [
    {
     "data": {
      "text/plain": [
       "True"
      ]
     },
     "execution_count": 52,
     "metadata": {},
     "output_type": "execute_result"
    }
   ],
   "source": [
    "validator.validate_quotation('\"Hello World\"')"
   ]
  },
  {
   "cell_type": "code",
   "execution_count": 54,
   "id": "59d5ea29",
   "metadata": {},
   "outputs": [
    {
     "ename": "ValueError",
     "evalue": "Text must be enclosed in balanced single or double quotes and contain only letters, numbers, and spaces.",
     "output_type": "error",
     "traceback": [
      "\u001b[0;31m---------------------------------------------------------------------------\u001b[0m",
      "\u001b[0;31mValueError\u001b[0m                                Traceback (most recent call last)",
      "\u001b[0;32m/tmp/ipykernel_30661/287628831.py\u001b[0m in \u001b[0;36m<module>\u001b[0;34m\u001b[0m\n\u001b[0;32m----> 1\u001b[0;31m \u001b[0mvalidator\u001b[0m\u001b[0;34m.\u001b[0m\u001b[0mvalidate_quotation\u001b[0m\u001b[0;34m(\u001b[0m\u001b[0;34m\"Hello!\"\u001b[0m\u001b[0;34m)\u001b[0m\u001b[0;34m\u001b[0m\u001b[0;34m\u001b[0m\u001b[0m\n\u001b[0m",
      "\u001b[0;32m/tmp/ipykernel_30661/2633382597.py\u001b[0m in \u001b[0;36mvalidator\u001b[0;34m(self, value)\u001b[0m\n\u001b[1;32m     33\u001b[0m             \u001b[0;32mdef\u001b[0m \u001b[0mvalidator\u001b[0m\u001b[0;34m(\u001b[0m\u001b[0mself\u001b[0m\u001b[0;34m,\u001b[0m \u001b[0mvalue\u001b[0m\u001b[0;34m)\u001b[0m\u001b[0;34m:\u001b[0m\u001b[0;34m\u001b[0m\u001b[0;34m\u001b[0m\u001b[0m\n\u001b[1;32m     34\u001b[0m                 \u001b[0;32mif\u001b[0m \u001b[0;32mnot\u001b[0m \u001b[0mre\u001b[0m\u001b[0;34m.\u001b[0m\u001b[0mmatch\u001b[0m\u001b[0;34m(\u001b[0m\u001b[0mrule\u001b[0m\u001b[0;34m,\u001b[0m \u001b[0mvalue\u001b[0m\u001b[0;34m)\u001b[0m\u001b[0;34m:\u001b[0m\u001b[0;34m\u001b[0m\u001b[0;34m\u001b[0m\u001b[0m\n\u001b[0;32m---> 35\u001b[0;31m                     \u001b[0;32mraise\u001b[0m \u001b[0mValueError\u001b[0m\u001b[0;34m(\u001b[0m\u001b[0mcustom_message\u001b[0m\u001b[0;34m)\u001b[0m\u001b[0;34m\u001b[0m\u001b[0;34m\u001b[0m\u001b[0m\n\u001b[0m\u001b[1;32m     36\u001b[0m                 \u001b[0;32mreturn\u001b[0m \u001b[0;32mTrue\u001b[0m\u001b[0;34m\u001b[0m\u001b[0;34m\u001b[0m\u001b[0m\n\u001b[1;32m     37\u001b[0m             \u001b[0;32mreturn\u001b[0m \u001b[0mvalidator\u001b[0m\u001b[0;34m\u001b[0m\u001b[0;34m\u001b[0m\u001b[0m\n",
      "\u001b[0;31mValueError\u001b[0m: Text must be enclosed in balanced single or double quotes and contain only letters, numbers, and spaces."
     ]
    }
   ],
   "source": [
    "validator.validate_quotation(\"Hello!\")"
   ]
  },
  {
   "cell_type": "markdown",
   "id": "32fbee0e",
   "metadata": {},
   "source": [
    "------------------------------------------------------------------------------------------------------------------------------------------------------------------------"
   ]
  },
  {
   "cell_type": "code",
   "execution_count": 55,
   "id": "ac51bce1",
   "metadata": {},
   "outputs": [
    {
     "data": {
      "text/plain": [
       "True"
      ]
     },
     "execution_count": 55,
     "metadata": {},
     "output_type": "execute_result"
    }
   ],
   "source": [
    "validator.validate_parenthesis(\"This is (valid)\")"
   ]
  },
  {
   "cell_type": "code",
   "execution_count": 56,
   "id": "dac796fc",
   "metadata": {},
   "outputs": [
    {
     "data": {
      "text/plain": [
       "True"
      ]
     },
     "execution_count": 56,
     "metadata": {},
     "output_type": "execute_result"
    }
   ],
   "source": [
    "validator.validate_parenthesis(\"This is valid\")"
   ]
  },
  {
   "cell_type": "code",
   "execution_count": 57,
   "id": "aa587e69",
   "metadata": {},
   "outputs": [
    {
     "ename": "ValueError",
     "evalue": "Parentheses must be balanced with no unmatched opening or closing parentheses.",
     "output_type": "error",
     "traceback": [
      "\u001b[0;31m---------------------------------------------------------------------------\u001b[0m",
      "\u001b[0;31mValueError\u001b[0m                                Traceback (most recent call last)",
      "\u001b[0;32m/tmp/ipykernel_30661/3162103067.py\u001b[0m in \u001b[0;36m<module>\u001b[0;34m\u001b[0m\n\u001b[0;32m----> 1\u001b[0;31m \u001b[0mvalidator\u001b[0m\u001b[0;34m.\u001b[0m\u001b[0mvalidate_parenthesis\u001b[0m\u001b[0;34m(\u001b[0m\u001b[0;34m\"This is not valid)\"\u001b[0m\u001b[0;34m)\u001b[0m\u001b[0;34m\u001b[0m\u001b[0;34m\u001b[0m\u001b[0m\n\u001b[0m",
      "\u001b[0;32m/tmp/ipykernel_30661/2633382597.py\u001b[0m in \u001b[0;36mvalidator\u001b[0;34m(self, value)\u001b[0m\n\u001b[1;32m     33\u001b[0m             \u001b[0;32mdef\u001b[0m \u001b[0mvalidator\u001b[0m\u001b[0;34m(\u001b[0m\u001b[0mself\u001b[0m\u001b[0;34m,\u001b[0m \u001b[0mvalue\u001b[0m\u001b[0;34m)\u001b[0m\u001b[0;34m:\u001b[0m\u001b[0;34m\u001b[0m\u001b[0;34m\u001b[0m\u001b[0m\n\u001b[1;32m     34\u001b[0m                 \u001b[0;32mif\u001b[0m \u001b[0;32mnot\u001b[0m \u001b[0mre\u001b[0m\u001b[0;34m.\u001b[0m\u001b[0mmatch\u001b[0m\u001b[0;34m(\u001b[0m\u001b[0mrule\u001b[0m\u001b[0;34m,\u001b[0m \u001b[0mvalue\u001b[0m\u001b[0;34m)\u001b[0m\u001b[0;34m:\u001b[0m\u001b[0;34m\u001b[0m\u001b[0;34m\u001b[0m\u001b[0m\n\u001b[0;32m---> 35\u001b[0;31m                     \u001b[0;32mraise\u001b[0m \u001b[0mValueError\u001b[0m\u001b[0;34m(\u001b[0m\u001b[0mcustom_message\u001b[0m\u001b[0;34m)\u001b[0m\u001b[0;34m\u001b[0m\u001b[0;34m\u001b[0m\u001b[0m\n\u001b[0m\u001b[1;32m     36\u001b[0m                 \u001b[0;32mreturn\u001b[0m \u001b[0;32mTrue\u001b[0m\u001b[0;34m\u001b[0m\u001b[0;34m\u001b[0m\u001b[0m\n\u001b[1;32m     37\u001b[0m             \u001b[0;32mreturn\u001b[0m \u001b[0mvalidator\u001b[0m\u001b[0;34m\u001b[0m\u001b[0;34m\u001b[0m\u001b[0m\n",
      "\u001b[0;31mValueError\u001b[0m: Parentheses must be balanced with no unmatched opening or closing parentheses."
     ]
    }
   ],
   "source": [
    "validator.validate_parenthesis(\"This is not valid)\")"
   ]
  },
  {
   "cell_type": "code",
   "execution_count": 58,
   "id": "60c5a51f",
   "metadata": {},
   "outputs": [
    {
     "ename": "ValueError",
     "evalue": "Parentheses must be balanced with no unmatched opening or closing parentheses.",
     "output_type": "error",
     "traceback": [
      "\u001b[0;31m---------------------------------------------------------------------------\u001b[0m",
      "\u001b[0;31mValueError\u001b[0m                                Traceback (most recent call last)",
      "\u001b[0;32m/tmp/ipykernel_30661/453797029.py\u001b[0m in \u001b[0;36m<module>\u001b[0;34m\u001b[0m\n\u001b[0;32m----> 1\u001b[0;31m \u001b[0mvalidator\u001b[0m\u001b[0;34m.\u001b[0m\u001b[0mvalidate_parenthesis\u001b[0m\u001b[0;34m(\u001b[0m\u001b[0;34m\"This is ((valid)\"\u001b[0m\u001b[0;34m)\u001b[0m\u001b[0;34m\u001b[0m\u001b[0;34m\u001b[0m\u001b[0m\n\u001b[0m",
      "\u001b[0;32m/tmp/ipykernel_30661/2633382597.py\u001b[0m in \u001b[0;36mvalidator\u001b[0;34m(self, value)\u001b[0m\n\u001b[1;32m     33\u001b[0m             \u001b[0;32mdef\u001b[0m \u001b[0mvalidator\u001b[0m\u001b[0;34m(\u001b[0m\u001b[0mself\u001b[0m\u001b[0;34m,\u001b[0m \u001b[0mvalue\u001b[0m\u001b[0;34m)\u001b[0m\u001b[0;34m:\u001b[0m\u001b[0;34m\u001b[0m\u001b[0;34m\u001b[0m\u001b[0m\n\u001b[1;32m     34\u001b[0m                 \u001b[0;32mif\u001b[0m \u001b[0;32mnot\u001b[0m \u001b[0mre\u001b[0m\u001b[0;34m.\u001b[0m\u001b[0mmatch\u001b[0m\u001b[0;34m(\u001b[0m\u001b[0mrule\u001b[0m\u001b[0;34m,\u001b[0m \u001b[0mvalue\u001b[0m\u001b[0;34m)\u001b[0m\u001b[0;34m:\u001b[0m\u001b[0;34m\u001b[0m\u001b[0;34m\u001b[0m\u001b[0m\n\u001b[0;32m---> 35\u001b[0;31m                     \u001b[0;32mraise\u001b[0m \u001b[0mValueError\u001b[0m\u001b[0;34m(\u001b[0m\u001b[0mcustom_message\u001b[0m\u001b[0;34m)\u001b[0m\u001b[0;34m\u001b[0m\u001b[0;34m\u001b[0m\u001b[0m\n\u001b[0m\u001b[1;32m     36\u001b[0m                 \u001b[0;32mreturn\u001b[0m \u001b[0;32mTrue\u001b[0m\u001b[0;34m\u001b[0m\u001b[0;34m\u001b[0m\u001b[0m\n\u001b[1;32m     37\u001b[0m             \u001b[0;32mreturn\u001b[0m \u001b[0mvalidator\u001b[0m\u001b[0;34m\u001b[0m\u001b[0;34m\u001b[0m\u001b[0m\n",
      "\u001b[0;31mValueError\u001b[0m: Parentheses must be balanced with no unmatched opening or closing parentheses."
     ]
    }
   ],
   "source": [
    "validator.validate_parenthesis(\"This is ((valid)\")"
   ]
  },
  {
   "cell_type": "markdown",
   "id": "df79d896",
   "metadata": {},
   "source": [
    "------------------------------------------------------------------------------------------------------------------------------------------------------------------------"
   ]
  },
  {
   "cell_type": "markdown",
   "id": "ac544490",
   "metadata": {},
   "source": [
    "------------------------------------------------------------------------------------------------------------------------------------------------------------------------"
   ]
  },
  {
   "cell_type": "markdown",
   "id": "51776788",
   "metadata": {},
   "source": [
    "# Bonus:"
   ]
  },
  {
   "cell_type": "code",
   "execution_count": 97,
   "id": "b3ba7658",
   "metadata": {},
   "outputs": [
    {
     "name": "stdout",
     "output_type": "stream",
     "text": [
      "Title: The Shawshank Redemption\n",
      "URL: https://www.imdb.com/title/tt0111161/?ref_=chttp_t_1\n",
      "Year: 1994\n",
      "Duration: 2h 22m\n",
      "Rating: 9.3\n",
      "Rating Count: 3.1M\n",
      "----------------------------------------\n",
      "Title: The Godfather\n",
      "URL: https://www.imdb.com/title/tt0068646/?ref_=chttp_t_2\n",
      "Year: 1972\n",
      "Duration: 2h 55m\n",
      "Rating: 9.2\n",
      "Rating Count: 2.1M\n",
      "----------------------------------------\n",
      "Title: The Dark Knight\n",
      "URL: https://www.imdb.com/title/tt0468569/?ref_=chttp_t_3\n",
      "Year: 2008\n",
      "Duration: 2h 32m\n",
      "Rating: 9.0\n",
      "Rating Count: 3M\n",
      "----------------------------------------\n",
      "Title: The Godfather Part II\n",
      "URL: https://www.imdb.com/title/tt0071562/?ref_=chttp_t_4\n",
      "Year: 1974\n",
      "Duration: 3h 22m\n",
      "Rating: 9.0\n",
      "Rating Count: 1.4M\n",
      "----------------------------------------\n",
      "Title: 12 Angry Men\n",
      "URL: https://www.imdb.com/title/tt0050083/?ref_=chttp_t_5\n",
      "Year: 1957\n",
      "Duration: 1h 36m\n",
      "Rating: 9.0\n",
      "Rating Count: 937K\n",
      "----------------------------------------\n",
      "Title: The Lord of the Rings: The Return of the King\n",
      "URL: https://www.imdb.com/title/tt0167260/?ref_=chttp_t_6\n",
      "Year: 2003\n",
      "Duration: 3h 21m\n",
      "Rating: 9.0\n",
      "Rating Count: 2.1M\n",
      "----------------------------------------\n",
      "Title: Schindler&#x27;s List\n",
      "URL: https://www.imdb.com/title/tt0108052/?ref_=chttp_t_7\n",
      "Year: 1993\n",
      "Duration: 3h 15m\n",
      "Rating: 9.0\n",
      "Rating Count: 1.5M\n",
      "----------------------------------------\n",
      "Title: Pulp Fiction\n",
      "URL: https://www.imdb.com/title/tt0110912/?ref_=chttp_t_8\n",
      "Year: 1994\n",
      "Duration: 2h 34m\n",
      "Rating: 8.8\n",
      "Rating Count: 2.4M\n",
      "----------------------------------------\n",
      "Title: The Lord of the Rings: The Fellowship of the Ring\n",
      "URL: https://www.imdb.com/title/tt0120737/?ref_=chttp_t_9\n",
      "Year: 2001\n",
      "Duration: 2h 58m\n",
      "Rating: 8.9\n",
      "Rating Count: 2.1M\n",
      "----------------------------------------\n",
      "Title: Il buono, il brutto, il cattivo\n",
      "URL: https://www.imdb.com/title/tt0060196/?ref_=chttp_t_10\n",
      "Year: 1966\n",
      "Duration: 2h 41m\n",
      "Rating: 8.8\n",
      "Rating Count: 862K\n",
      "----------------------------------------\n",
      "Title: Forrest Gump\n",
      "URL: https://www.imdb.com/title/tt0109830/?ref_=chttp_t_11\n",
      "Year: 1994\n",
      "Duration: 2h 22m\n",
      "Rating: 8.8\n",
      "Rating Count: 2.4M\n",
      "----------------------------------------\n",
      "Title: The Lord of the Rings: The Two Towers\n",
      "URL: https://www.imdb.com/title/tt0167261/?ref_=chttp_t_12\n",
      "Year: 2002\n",
      "Duration: 2h 59m\n",
      "Rating: 8.8\n",
      "Rating Count: 1.9M\n",
      "----------------------------------------\n",
      "Title: Fight Club\n",
      "URL: https://www.imdb.com/title/tt0137523/?ref_=chttp_t_13\n",
      "Year: 1999\n",
      "Duration: 2h 19m\n",
      "Rating: 8.8\n",
      "Rating Count: 2.5M\n",
      "----------------------------------------\n",
      "Title: Inception\n",
      "URL: https://www.imdb.com/title/tt1375666/?ref_=chttp_t_14\n",
      "Year: 2010\n",
      "Duration: 2h 28m\n",
      "Rating: 8.8\n",
      "Rating Count: 2.7M\n",
      "----------------------------------------\n",
      "Title: Star Wars: Episode V - The Empire Strikes Back\n",
      "URL: https://www.imdb.com/title/tt0080684/?ref_=chttp_t_15\n",
      "Year: 1980\n",
      "Duration: 2h 4m\n",
      "Rating: 8.7\n",
      "Rating Count: 1.5M\n",
      "----------------------------------------\n",
      "Title: The Matrix\n",
      "URL: https://www.imdb.com/title/tt0133093/?ref_=chttp_t_16\n",
      "Year: 1999\n",
      "Duration: 2h 16m\n",
      "Rating: 8.7\n",
      "Rating Count: 2.2M\n",
      "----------------------------------------\n",
      "Title: GoodFellas\n",
      "URL: https://www.imdb.com/title/tt0099685/?ref_=chttp_t_17\n",
      "Year: 1990\n",
      "Duration: 2h 25m\n",
      "Rating: 8.7\n",
      "Rating Count: 1.3M\n",
      "----------------------------------------\n",
      "Title: Interstellar\n",
      "URL: https://www.imdb.com/title/tt0816692/?ref_=chttp_t_18\n",
      "Year: 2014\n",
      "Duration: 2h 49m\n",
      "Rating: 8.7\n",
      "Rating Count: 2.4M\n",
      "----------------------------------------\n",
      "Title: One Flew Over the Cuckoo&#x27;s Nest\n",
      "URL: https://www.imdb.com/title/tt0073486/?ref_=chttp_t_19\n",
      "Year: 1975\n",
      "Duration: 2h 13m\n",
      "Rating: 8.7\n",
      "Rating Count: 1.1M\n",
      "----------------------------------------\n",
      "Title: Se7en\n",
      "URL: https://www.imdb.com/title/tt0114369/?ref_=chttp_t_20\n",
      "Year: 1995\n",
      "Duration: 2h 7m\n",
      "Rating: 8.6\n",
      "Rating Count: 1.9M\n",
      "----------------------------------------\n",
      "Title: It&#x27;s a Wonderful Life\n",
      "URL: https://www.imdb.com/title/tt0038650/?ref_=chttp_t_21\n",
      "Year: 1946\n",
      "Duration: 2h 10m\n",
      "Rating: 8.6\n",
      "Rating Count: 531K\n",
      "----------------------------------------\n",
      "Title: The Silence of the Lambs\n",
      "URL: https://www.imdb.com/title/tt0102926/?ref_=chttp_t_22\n",
      "Year: 1991\n",
      "Duration: 1h 58m\n",
      "Rating: 8.6\n",
      "Rating Count: 1.6M\n",
      "----------------------------------------\n",
      "Title: Shichinin no samurai\n",
      "URL: https://www.imdb.com/title/tt0047478/?ref_=chttp_t_23\n",
      "Year: 1954\n",
      "Duration: 3h 27m\n",
      "Rating: 8.6\n",
      "Rating Count: 388K\n",
      "----------------------------------------\n",
      "Title: Saving Private Ryan\n",
      "URL: https://www.imdb.com/title/tt0120815/?ref_=chttp_t_24\n",
      "Year: 1998\n",
      "Duration: 2h 49m\n",
      "Rating: 8.6\n",
      "Rating Count: 1.6M\n",
      "----------------------------------------\n",
      "Title: The Green Mile\n",
      "URL: https://www.imdb.com/title/tt0120689/?ref_=chttp_t_25\n",
      "Year: 1999\n",
      "Duration: 3h 9m\n",
      "Rating: 8.6\n",
      "Rating Count: 1.5M\n",
      "----------------------------------------\n"
     ]
    }
   ],
   "source": [
    "import re\n",
    "import urllib.request\n",
    "\n",
    "url = \"https://www.imdb.com/chart/top/\"\n",
    "headers = {'User-Agent': 'Mozilla/5.0'}\n",
    "req = urllib.request.Request(url, headers=headers)\n",
    "response = urllib.request.urlopen(req)\n",
    "html = response.read().decode('utf-8')\n",
    "\n",
    "titles = re.findall(r'<h3 class=\"ipc-title__text[^\"]*\">(?:\\d+\\.\\s)?(.*?)</h3>', html)\n",
    "urls = re.findall(r'<a href=\"(/title/tt\\d+/[^\"]*)\"', html)\n",
    "years = re.findall(r'<span class=\"[^\"]*cli-title-metadata-item[^\"]*\">(\\d{4})</span>', html)\n",
    "durations = re.findall(r'<span class=\"[^\"]*cli-title-metadata-item[^\"]*\">(\\d{1,2}h\\s?\\d{1,2}m?)</span>', html)\n",
    "ratings = re.findall(r'aria-label=\"IMDb rating:\\s*([0-9.]+)\"', html)\n",
    "rating_counts = re.findall(r'<span class=\"ipc-rating-star--voteCount\">\\s*\\(<!-- -->\\s*([\\d.,MK]+)\\s*<!-- -->\\)</span>',html)\n",
    "\n",
    "for i in range(min(len(titles), len(urls), len(years), len(durations), len(ratings), len(rating_counts))):\n",
    "    print(f\"Title: {titles[i+1]}\")\n",
    "    print(f\"URL: https://www.imdb.com{urls[i]}\")\n",
    "    print(f\"Year: {years[i]}\")\n",
    "    print(f\"Duration: {durations[i]}\")\n",
    "    print(f\"Rating: {ratings[i]}\")\n",
    "    print(f\"Rating Count: {rating_counts[i] if i < len(rating_counts) else 'N/A'}\")\n",
    "\n",
    "    print(\"-\" * 40)\n"
   ]
  },
  {
   "cell_type": "markdown",
   "id": "f5592815",
   "metadata": {},
   "source": [
    "Using regex for this web scraping project came with several challenges. First, HTML doesn’t have a regular or consistent structure, and since regex is designed for simple text patterns, it has difficulties with the complexity of web pages. For example, some data like rating counts were hidden inside HTML comments or formatted in tricky ways, making them hard to match. Also, even small changes in the page’s structure (like class names or tag order) can easily break the regex. Writing the expressions was also very sensitive; if just one part of the pattern was off, it wouldn’t work at all.\n",
    "\n",
    "To deal with the challenges of using regex for web scraping, there are a few better and more reliable solutions. One option is to use specialized libraries like BeautifulSoup, which are designed to parse HTML properly and can handle nested tags much more easily than regex. Another solution is to use Selenium or, which simulate a real browser and can load dynamic content that’s generated by JavaScript. If using these tools isn’t allowed, we should carefully inspect the page’s HTML and write more flexible regex patterns, while also making sure to check the length of all extracted lists to avoid errors.\n"
   ]
  },
  {
   "cell_type": "markdown",
   "id": "6ea900d5",
   "metadata": {},
   "source": [
    "------------------------------------------------------------------------------------------------------------------------------------------------------------------------"
   ]
  },
  {
   "cell_type": "markdown",
   "id": "4edd3537",
   "metadata": {},
   "source": [
    "# Questions:\n",
    "\n",
    "1. form validation, data cleaning, searching and replacing patterns in text, syntax highlighting in code editors, and simple web scraping.\n",
    "\n",
    "2. Besides the problems with HTML parsing, nested parentheses or quotations couldn’t be handled properly using regex."
   ]
  }
 ],
 "metadata": {
  "kernelspec": {
   "display_name": "Python 3",
   "language": "python",
   "name": "python3"
  },
  "language_info": {
   "codemirror_mode": {
    "name": "ipython",
    "version": 3
   },
   "file_extension": ".py",
   "mimetype": "text/x-python",
   "name": "python",
   "nbconvert_exporter": "python",
   "pygments_lexer": "ipython3",
   "version": "3.10.12"
  }
 },
 "nbformat": 4,
 "nbformat_minor": 5
}
